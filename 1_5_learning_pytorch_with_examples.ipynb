{
  "nbformat": 4,
  "nbformat_minor": 0,
  "metadata": {
    "colab": {
      "name": "1_5_learning_pytorch_with_examples.ipynb",
      "provenance": [],
      "collapsed_sections": [],
      "authorship_tag": "ABX9TyOrTZ+iIzKJoT2cayyNpM2m",
      "include_colab_link": true
    },
    "kernelspec": {
      "name": "python3",
      "display_name": "Python 3"
    },
    "accelerator": "GPU"
  },
  "cells": [
    {
      "cell_type": "markdown",
      "metadata": {
        "id": "view-in-github",
        "colab_type": "text"
      },
      "source": [
        "<a href=\"https://colab.research.google.com/github/chihina/pytorch-tutorial/blob/master/1_5_learning_pytorch_with_examples.ipynb\" target=\"_parent\"><img src=\"https://colab.research.google.com/assets/colab-badge.svg\" alt=\"Open In Colab\"/></a>"
      ]
    },
    {
      "cell_type": "markdown",
      "metadata": {
        "id": "0dytNdnr5Wjd"
      },
      "source": [
        "#**Tutorial 1-5: Learning PyTorch with Examples**  \r\n",
        "https://pytorch.org/tutorials/beginner/pytorch_with_examples.html"
      ]
    },
    {
      "cell_type": "code",
      "metadata": {
        "id": "ep-xFEyM4m16"
      },
      "source": [
        "import numpy as np\r\n",
        "import math\r\n",
        "import random\r\n",
        "import torch"
      ],
      "execution_count": 10,
      "outputs": []
    },
    {
      "cell_type": "markdown",
      "metadata": {
        "id": "34q0eY9q5xxV"
      },
      "source": [
        "# Tensors"
      ]
    },
    {
      "cell_type": "markdown",
      "metadata": {
        "id": "TyVzW4dY59_t"
      },
      "source": [
        "## Warm-up: numpy\r\n",
        "Use numpy to fit a third order polynomial to sine function"
      ]
    },
    {
      "cell_type": "code",
      "metadata": {
        "colab": {
          "base_uri": "https://localhost:8080/"
        },
        "id": "NVr02fgf59Er",
        "outputId": "a7e5c053-c02b-4b83-dd4a-c995886578c5"
      },
      "source": [
        "import numpy as np\r\n",
        "import math\r\n",
        "\r\n",
        "# Create random input and output data\r\n",
        "x = np.linspace(-math.pi, math.pi, 2000)\r\n",
        "y = np.sin(x)\r\n",
        "\r\n",
        "# Randomly initialize weights\r\n",
        "a = np.random.randn()\r\n",
        "b = np.random.randn()\r\n",
        "c = np.random.randn()\r\n",
        "d = np.random.randn()\r\n",
        "\r\n",
        "learning_rate = 1e-6\r\n",
        "for t in range(2000):\r\n",
        "    # Forward pass: compute predicted y\r\n",
        "    # y = a + b x + c x^2 + d x^3\r\n",
        "    y_pred = a + b * x + c * x ** 2 + d * x ** 3\r\n",
        "\r\n",
        "    # Compute and print loss\r\n",
        "    loss = np.square(y_pred - y).sum()\r\n",
        "    if t % 100 == 99:\r\n",
        "        print(t, loss)\r\n",
        "\r\n",
        "    # Backprop to compute gradients of a, b, c, d with respect to loss\r\n",
        "    grad_y_pred = 2.0 * (y_pred - y)\r\n",
        "    grad_a = grad_y_pred.sum()\r\n",
        "    grad_b = (grad_y_pred * x).sum()\r\n",
        "    grad_c = (grad_y_pred * x ** 2).sum()\r\n",
        "    grad_d = (grad_y_pred * x ** 3).sum()\r\n",
        "\r\n",
        "    # Update weights\r\n",
        "    a -= learning_rate * grad_a\r\n",
        "    b -= learning_rate * grad_b\r\n",
        "    c -= learning_rate * grad_c\r\n",
        "    d -= learning_rate * grad_d\r\n",
        "\r\n",
        "print(f'Result: y = {a} + {b} x + {c} x^2 + {d} x^3')"
      ],
      "execution_count": 2,
      "outputs": [
        {
          "output_type": "stream",
          "text": [
            "99 116.18425847404848\n",
            "199 84.41766834672228\n",
            "299 62.06968534115802\n",
            "399 46.33854273873667\n",
            "499 35.26154841907399\n",
            "599 27.459377298874543\n",
            "699 21.962280403019058\n",
            "799 18.088200587278408\n",
            "899 15.357247726745097\n",
            "999 13.431657522195483\n",
            "1099 12.073621023465583\n",
            "1199 11.115652742010232\n",
            "1299 10.439760533308089\n",
            "1399 9.962796997706398\n",
            "1499 9.626154120039292\n",
            "1599 9.388510830063176\n",
            "1699 9.22072735986087\n",
            "1799 9.102249788106864\n",
            "1899 9.018577321201487\n",
            "1999 8.959477688090555\n",
            "Result: y = -0.012488755943249932 + 0.8550282196171037 x + 0.002154518214006516 x^2 + -0.09308678326754229 x^3\n"
          ],
          "name": "stdout"
        }
      ]
    },
    {
      "cell_type": "markdown",
      "metadata": {
        "id": "K_r7kqON6s1W"
      },
      "source": [
        "## PyTorch: Tensors"
      ]
    },
    {
      "cell_type": "markdown",
      "metadata": {
        "id": "XWK3dURp7Jou"
      },
      "source": [
        "For modern deep neural networks, GPUs often provide speedups of 50x or greater, but numpy is not utillize it.  \r\n",
        "\r\n",
        "PyTorch Tensors\r\n",
        "*  It utilize GPUs to accelerate its numerical computations\r\n",
        "*  It keep track of a computational graph and gradients\r\n",
        "\r\n",
        "\r\n",
        "Here we use PyTorch Tensors to fit a third order polynomial to sine function. Like the numpy example."
      ]
    },
    {
      "cell_type": "code",
      "metadata": {
        "colab": {
          "base_uri": "https://localhost:8080/"
        },
        "id": "5zmkvm5Y6srI",
        "outputId": "a4e937eb-3fc7-4d8a-cc4f-f97c56fad66a"
      },
      "source": [
        "dtype = torch.float\r\n",
        "# device = torch.device(\"cpu\")\r\n",
        "device = torch.device(\"cuda:0\") # Uncomment this to run on GPU\r\n",
        "\r\n",
        "# Create random input and output data\r\n",
        "x = torch.linspace(-math.pi, math.pi, 2000, device=device, dtype=dtype)\r\n",
        "y = torch.sin(x)\r\n",
        "\r\n",
        "# Randomly initialize weights\r\n",
        "a = torch.randn((), device=device, dtype=dtype)\r\n",
        "b = torch.randn((), device=device, dtype=dtype)\r\n",
        "c = torch.randn((), device=device, dtype=dtype)\r\n",
        "d = torch.randn((), device=device, dtype=dtype)\r\n",
        "\r\n",
        "learning_rate = 1e-6\r\n",
        "for t in range(2000):\r\n",
        "    # Forward pass: compute predicted y\r\n",
        "    y_pred = a + b * x + c * x ** 2 + d * x ** 3\r\n",
        "\r\n",
        "    # Compute and print loss\r\n",
        "    loss = (y_pred - y).pow(2).sum().item()\r\n",
        "    if t % 100 == 99:\r\n",
        "        print(t, loss)\r\n",
        "\r\n",
        "    # Backprop to compute gradients of a, b, c, d with respect to loss\r\n",
        "    grad_y_pred = 2.0 * (y_pred - y)\r\n",
        "    grad_a = grad_y_pred.sum()\r\n",
        "    grad_b = (grad_y_pred * x).sum()\r\n",
        "    grad_c = (grad_y_pred * x ** 2).sum()\r\n",
        "    grad_d = (grad_y_pred * x ** 3).sum()\r\n",
        "\r\n",
        "    # Update weights using gradient descent\r\n",
        "    a -= learning_rate * grad_a\r\n",
        "    b -= learning_rate * grad_b\r\n",
        "    c -= learning_rate * grad_c\r\n",
        "    d -= learning_rate * grad_d\r\n",
        "\r\n",
        "\r\n",
        "print(f'Result: y = {a.item()} + {b.item()} x + {c.item()} x^2 + {d.item()} x^3')"
      ],
      "execution_count": 3,
      "outputs": [
        {
          "output_type": "stream",
          "text": [
            "99 2892.85888671875\n",
            "199 1916.229736328125\n",
            "299 1270.33544921875\n",
            "399 843.167236328125\n",
            "499 560.6521606445312\n",
            "599 373.8038330078125\n",
            "699 250.22518920898438\n",
            "799 168.49099731445312\n",
            "899 114.43195343017578\n",
            "999 78.67643737792969\n",
            "1099 55.0268669128418\n",
            "1199 39.384124755859375\n",
            "1299 29.037166595458984\n",
            "1399 22.193025588989258\n",
            "1499 17.6657772064209\n",
            "1599 14.671018600463867\n",
            "1699 12.689940452575684\n",
            "1799 11.379403114318848\n",
            "1899 10.512383460998535\n",
            "1999 9.938798904418945\n",
            "Result: y = -0.0033933138474822044 + 0.824334442615509 x + 0.0005854038754478097 x^2 + -0.08872085809707642 x^3\n"
          ],
          "name": "stdout"
        }
      ]
    },
    {
      "cell_type": "markdown",
      "metadata": {
        "id": "eW8Pajdz8EKM"
      },
      "source": [
        "# Autograd\r\n",
        "\r\n",
        "Here we use PyTorch Tensors and autograd to implement our fitting sine wave with third order polynomial example"
      ]
    },
    {
      "cell_type": "code",
      "metadata": {
        "colab": {
          "base_uri": "https://localhost:8080/"
        },
        "id": "6dcp1bn08juY",
        "outputId": "7f639e7a-8af3-4fc3-9e55-93387b15edfe"
      },
      "source": [
        "dtype = torch.float\r\n",
        "# device = torch.device(\"cpu\")\r\n",
        "device = torch.device(\"cuda:0\")  # Uncomment this to run on GPU\r\n",
        "\r\n",
        "# Create Tensors to hold input and outputs.\r\n",
        "# By default, requires_grad=False, which indicates that we do not need to\r\n",
        "# compute gradients with respect to these Tensors during the backward pass.\r\n",
        "x = torch.linspace(-math.pi, math.pi, 2000, device=device, dtype=dtype)\r\n",
        "y = torch.sin(x)\r\n",
        "\r\n",
        "# Create random Tensors for weights. For a third order polynomial, we need\r\n",
        "# 4 weights: y = a + b x + c x^2 + d x^3\r\n",
        "# Setting requires_grad=True indicates that we want to compute gradients with\r\n",
        "# respect to these Tensors during the backward pass.\r\n",
        "a = torch.randn((), device=device, dtype=dtype, requires_grad=True)\r\n",
        "b = torch.randn((), device=device, dtype=dtype, requires_grad=True)\r\n",
        "c = torch.randn((), device=device, dtype=dtype, requires_grad=True)\r\n",
        "d = torch.randn((), device=device, dtype=dtype, requires_grad=True)\r\n",
        "\r\n",
        "learning_rate = 1e-6\r\n",
        "for t in range(2000):\r\n",
        "    # Forward pass: compute predicted y using operations on Tensors.\r\n",
        "    y_pred = a + b * x + c * x ** 2 + d * x ** 3\r\n",
        "\r\n",
        "    # Compute and print loss using operations on Tensors.\r\n",
        "    # Now loss is a Tensor of shape (1,)\r\n",
        "    # loss.item() gets the scalar value held in the loss.\r\n",
        "    loss = (y_pred - y).pow(2).sum()\r\n",
        "    if t % 100 == 99:\r\n",
        "        print(t, loss.item())\r\n",
        "\r\n",
        "    # Use autograd to compute the backward pass. This call will compute the\r\n",
        "    # gradient of loss with respect to all Tensors with requires_grad=True.\r\n",
        "    # After this call a.grad, b.grad. c.grad and d.grad will be Tensors holding\r\n",
        "    # the gradient of the loss with respect to a, b, c, d respectively.\r\n",
        "    loss.backward()\r\n",
        "\r\n",
        "    # Manually update weights using gradient descent. Wrap in torch.no_grad()\r\n",
        "    # because weights have requires_grad=True, but we don't need to track this\r\n",
        "    # in autograd.\r\n",
        "    with torch.no_grad():\r\n",
        "        a -= learning_rate * a.grad\r\n",
        "        b -= learning_rate * b.grad\r\n",
        "        c -= learning_rate * c.grad\r\n",
        "        d -= learning_rate * d.grad\r\n",
        "\r\n",
        "        # Manually zero the gradients after updating weights\r\n",
        "        a.grad = None\r\n",
        "        b.grad = None\r\n",
        "        c.grad = None\r\n",
        "        d.grad = None\r\n",
        "\r\n",
        "print(f'Result: y = {a.item()} + {b.item()} x + {c.item()} x^2 + {d.item()} x^3')"
      ],
      "execution_count": 4,
      "outputs": [
        {
          "output_type": "stream",
          "text": [
            "99 3060.54736328125\n",
            "199 2027.5985107421875\n",
            "299 1344.3216552734375\n",
            "399 892.3340454101562\n",
            "499 593.3359375\n",
            "599 395.53765869140625\n",
            "699 264.6828918457031\n",
            "799 178.11224365234375\n",
            "899 120.83708953857422\n",
            "999 82.94247436523438\n",
            "1099 57.86932373046875\n",
            "1199 41.27897262573242\n",
            "1299 30.301010131835938\n",
            "1399 23.0363826751709\n",
            "1499 18.22887420654297\n",
            "1599 15.04716682434082\n",
            "1699 12.94135856628418\n",
            "1799 11.547527313232422\n",
            "1899 10.624948501586914\n",
            "1999 10.014195442199707\n",
            "Result: y = -0.005287281237542629 + 0.8234608769416809 x + 0.0009121429757215083 x^2 + -0.08859660476446152 x^3\n"
          ],
          "name": "stdout"
        }
      ]
    },
    {
      "cell_type": "markdown",
      "metadata": {
        "id": "tJRP96Tm9Vr3"
      },
      "source": [
        "## PyTorch: Defining new autograd functions\r\n",
        "\r\n",
        "In PyTorch we can easily define our own autograd operator by defining a subclass of torch.autograd.Function and implementing the forward and backward functions."
      ]
    },
    {
      "cell_type": "code",
      "metadata": {
        "colab": {
          "base_uri": "https://localhost:8080/"
        },
        "id": "3yQ4Opwl9cb_",
        "outputId": "a5a40fad-e4a9-449b-de3d-dd769d72213e"
      },
      "source": [
        "class LegendrePolynomial3(torch.autograd.Function):\r\n",
        "    \"\"\"\r\n",
        "    We can implement our own custom autograd Functions by subclassing\r\n",
        "    torch.autograd.Function and implementing the forward and backward passes\r\n",
        "    which operate on Tensors.\r\n",
        "    \"\"\"\r\n",
        "\r\n",
        "    @staticmethod\r\n",
        "    def forward(ctx, input):\r\n",
        "        \"\"\"\r\n",
        "        In the forward pass we receive a Tensor containing the input and return\r\n",
        "        a Tensor containing the output. ctx is a context object that can be used\r\n",
        "        to stash information for backward computation. You can cache arbitrary\r\n",
        "        objects for use in the backward pass using the ctx.save_for_backward method.\r\n",
        "        \"\"\"\r\n",
        "        ctx.save_for_backward(input)\r\n",
        "        return 0.5 * (5 * input ** 3 - 3 * input)\r\n",
        "\r\n",
        "    @staticmethod\r\n",
        "    def backward(ctx, grad_output):\r\n",
        "        \"\"\"\r\n",
        "        In the backward pass we receive a Tensor containing the gradient of the loss\r\n",
        "        with respect to the output, and we need to compute the gradient of the loss\r\n",
        "        with respect to the input.\r\n",
        "        \"\"\"\r\n",
        "        input, = ctx.saved_tensors\r\n",
        "        return grad_output * 1.5 * (5 * input ** 2 - 1)\r\n",
        "\r\n",
        "\r\n",
        "dtype = torch.float\r\n",
        "# device = torch.device(\"cpu\")\r\n",
        "device = torch.device(\"cuda:0\")  # Uncomment this to run on GPU\r\n",
        "\r\n",
        "# Create Tensors to hold input and outputs.\r\n",
        "# By default, requires_grad=False, which indicates that we do not need to\r\n",
        "# compute gradients with respect to these Tensors during the backward pass.\r\n",
        "x = torch.linspace(-math.pi, math.pi, 2000, device=device, dtype=dtype)\r\n",
        "y = torch.sin(x)\r\n",
        "\r\n",
        "# Create random Tensors for weights. For this example, we need\r\n",
        "# 4 weights: y = a + b * P3(c + d * x), these weights need to be initialized\r\n",
        "# not too far from the correct result to ensure convergence.\r\n",
        "# Setting requires_grad=True indicates that we want to compute gradients with\r\n",
        "# respect to these Tensors during the backward pass.\r\n",
        "a = torch.full((), 0.0, device=device, dtype=dtype, requires_grad=True)\r\n",
        "b = torch.full((), -1.0, device=device, dtype=dtype, requires_grad=True)\r\n",
        "c = torch.full((), 0.0, device=device, dtype=dtype, requires_grad=True)\r\n",
        "d = torch.full((), 0.3, device=device, dtype=dtype, requires_grad=True)\r\n",
        "\r\n",
        "learning_rate = 5e-6\r\n",
        "for t in range(2000):\r\n",
        "    # To apply our Function, we use Function.apply method. We alias this as 'P3'.\r\n",
        "    P3 = LegendrePolynomial3.apply\r\n",
        "\r\n",
        "    # Forward pass: compute predicted y using operations; we compute\r\n",
        "    # P3 using our custom autograd operation.\r\n",
        "    y_pred = a + b * P3(c + d * x)\r\n",
        "\r\n",
        "    # Compute and print loss\r\n",
        "    loss = (y_pred - y).pow(2).sum()\r\n",
        "    if t % 100 == 99:\r\n",
        "        print(t, loss.item())\r\n",
        "\r\n",
        "    # Use autograd to compute the backward pass.\r\n",
        "    loss.backward()\r\n",
        "\r\n",
        "    # Update weights using gradient descent\r\n",
        "    with torch.no_grad():\r\n",
        "        a -= learning_rate * a.grad\r\n",
        "        b -= learning_rate * b.grad\r\n",
        "        c -= learning_rate * c.grad\r\n",
        "        d -= learning_rate * d.grad\r\n",
        "\r\n",
        "        # Manually zero the gradients after updating weights\r\n",
        "        a.grad = None\r\n",
        "        b.grad = None\r\n",
        "        c.grad = None\r\n",
        "        d.grad = None\r\n",
        "\r\n",
        "print(f'Result: y = {a.item()} + {b.item()} * P3({c.item()} + {d.item()} x)')"
      ],
      "execution_count": 5,
      "outputs": [
        {
          "output_type": "stream",
          "text": [
            "99 209.9583282470703\n",
            "199 144.66018676757812\n",
            "299 100.70249938964844\n",
            "399 71.03519439697266\n",
            "499 50.97850799560547\n",
            "599 37.403133392333984\n",
            "699 28.206865310668945\n",
            "799 21.97318458557129\n",
            "899 17.7457275390625\n",
            "999 14.877889633178711\n",
            "1099 12.931764602661133\n",
            "1199 11.610918045043945\n",
            "1299 10.714248657226562\n",
            "1399 10.105474472045898\n",
            "1499 9.692106246948242\n",
            "1599 9.411375045776367\n",
            "1699 9.220745086669922\n",
            "1799 9.091285705566406\n",
            "1899 9.003361701965332\n",
            "1999 8.943639755249023\n",
            "Result: y = -5.733219801684619e-11 + -2.208526849746704 * P3(-2.4259058650777376e-10 + 0.2554861009120941 x)\n"
          ],
          "name": "stdout"
        }
      ]
    },
    {
      "cell_type": "markdown",
      "metadata": {
        "id": "hgvGS8gjBD_A"
      },
      "source": [
        "# nn module"
      ]
    },
    {
      "cell_type": "markdown",
      "metadata": {
        "id": "BekFrpSjBGWX"
      },
      "source": [
        "## PyTorch: nn\r\n",
        "\r\n",
        "A Module receives input Tensors and computes output Tensors, but may also hold internal state such as Tensors containing learnable parameters. The nn package also defines a set of useful loss functions that are commonly used when training neural networks."
      ]
    },
    {
      "cell_type": "code",
      "metadata": {
        "colab": {
          "base_uri": "https://localhost:8080/"
        },
        "id": "VDib5DN2BH4P",
        "outputId": "8f106497-f92d-441a-ae9b-2d8c3edca39b"
      },
      "source": [
        "# Create Tensors to hold input and outputs.\r\n",
        "x = torch.linspace(-math.pi, math.pi, 2000)\r\n",
        "y = torch.sin(x)\r\n",
        "\r\n",
        "# For this example, the output y is a linear function of (x, x^2, x^3), so\r\n",
        "# we can consider it as a linear layer neural network. Let's prepare the\r\n",
        "# tensor (x, x^2, x^3).\r\n",
        "p = torch.tensor([1, 2, 3])\r\n",
        "xx = x.unsqueeze(-1).pow(p)\r\n",
        "\r\n",
        "# In the above code, x.unsqueeze(-1) has shape (2000, 1), and p has shape\r\n",
        "# (3,), for this case, broadcasting semantics will apply to obtain a tensor\r\n",
        "# of shape (2000, 3) \r\n",
        "\r\n",
        "# Use the nn package to define our model as a sequence of layers. nn.Sequential\r\n",
        "# is a Module which contains other Modules, and applies them in sequence to\r\n",
        "# produce its output. The Linear Module computes output from input using a\r\n",
        "# linear function, and holds internal Tensors for its weight and bias.\r\n",
        "# The Flatten layer flatens the output of the linear layer to a 1D tensor,\r\n",
        "# to match the shape of `y`.\r\n",
        "model = torch.nn.Sequential(\r\n",
        "    torch.nn.Linear(3, 1),\r\n",
        "    torch.nn.Flatten(0, 1)\r\n",
        ")\r\n",
        "\r\n",
        "# The nn package also contains definitions of popular loss functions; in this\r\n",
        "# case we will use Mean Squared Error (MSE) as our loss function.\r\n",
        "loss_fn = torch.nn.MSELoss(reduction='sum')\r\n",
        "\r\n",
        "learning_rate = 1e-6\r\n",
        "for t in range(2000):\r\n",
        "\r\n",
        "    # Forward pass: compute predicted y by passing x to the model. Module objects\r\n",
        "    # override the __call__ operator so you can call them like functions. When\r\n",
        "    # doing so you pass a Tensor of input data to the Module and it produces\r\n",
        "    # a Tensor of output data.\r\n",
        "    y_pred = model(xx)\r\n",
        "\r\n",
        "    # Compute and print loss. We pass Tensors containing the predicted and true\r\n",
        "    # values of y, and the loss function returns a Tensor containing the\r\n",
        "    # loss.\r\n",
        "    loss = loss_fn(y_pred, y)\r\n",
        "    if t % 100 == 99:\r\n",
        "        print(t, loss.item())\r\n",
        "\r\n",
        "    # Zero the gradients before running the backward pass.\r\n",
        "    model.zero_grad()\r\n",
        "\r\n",
        "    # Backward pass: compute gradient of the loss with respect to all the learnable\r\n",
        "    # parameters of the model. Internally, the parameters of each Module are stored\r\n",
        "    # in Tensors with requires_grad=True, so this call will compute gradients for\r\n",
        "    # all learnable parameters in the model.\r\n",
        "    loss.backward()\r\n",
        "\r\n",
        "    # Update the weights using gradient descent. Each parameter is a Tensor, so\r\n",
        "    # we can access its gradients like we did before.\r\n",
        "    with torch.no_grad():\r\n",
        "        for param in model.parameters():\r\n",
        "            param -= learning_rate * param.grad\r\n",
        "\r\n",
        "# You can access the first layer of `model` like accessing the first item of a list\r\n",
        "linear_layer = model[0]\r\n",
        "\r\n",
        "# For linear layer, its parameters are stored as `weight` and `bias`.\r\n",
        "print(f'Result: y = {linear_layer.bias.item()} + {linear_layer.weight[:, 0].item()} x + {linear_layer.weight[:, 1].item()} x^2 + {linear_layer.weight[:, 2].item()} x^3')"
      ],
      "execution_count": 6,
      "outputs": [
        {
          "output_type": "stream",
          "text": [
            "99 384.79742431640625\n",
            "199 265.008056640625\n",
            "299 183.58326721191406\n",
            "399 128.17416381835938\n",
            "499 90.42608642578125\n",
            "599 64.68045043945312\n",
            "699 47.10087203979492\n",
            "799 35.08346176147461\n",
            "899 26.85881233215332\n",
            "999 21.223501205444336\n",
            "1099 17.35793685913086\n",
            "1199 14.703239440917969\n",
            "1299 12.878119468688965\n",
            "1399 11.621912002563477\n",
            "1499 10.75631332397461\n",
            "1599 10.159238815307617\n",
            "1699 9.746944427490234\n",
            "1799 9.461934089660645\n",
            "1899 9.264717102050781\n",
            "1999 9.128111839294434\n",
            "Result: y = -0.016009194776415825 + 0.8479279279708862 x + 0.0027618526946753263 x^2 + -0.09207683056592941 x^3\n"
          ],
          "name": "stdout"
        }
      ]
    },
    {
      "cell_type": "markdown",
      "metadata": {
        "id": "_z90IIYFBjd0"
      },
      "source": [
        "## Pytorch: optim\r\n",
        "\r\n",
        "The optim package in PyTorch abstracts the idea of an optimization algorithm and provides implementations of commonly used optimization algorithms."
      ]
    },
    {
      "cell_type": "code",
      "metadata": {
        "colab": {
          "base_uri": "https://localhost:8080/"
        },
        "id": "bEFadmpxB6wf",
        "outputId": "55698c93-88e4-4677-8d1e-2a20f124a322"
      },
      "source": [
        "# Create Tensors to hold input and outputs.\r\n",
        "x = torch.linspace(-math.pi, math.pi, 2000)\r\n",
        "y = torch.sin(x)\r\n",
        "\r\n",
        "# Prepare the input tensor (x, x^2, x^3).\r\n",
        "p = torch.tensor([1, 2, 3])\r\n",
        "xx = x.unsqueeze(-1).pow(p)\r\n",
        "\r\n",
        "# Use the nn package to define our model and loss function.\r\n",
        "model = torch.nn.Sequential(\r\n",
        "    torch.nn.Linear(3, 1),\r\n",
        "    torch.nn.Flatten(0, 1)\r\n",
        ")\r\n",
        "loss_fn = torch.nn.MSELoss(reduction='sum')\r\n",
        "\r\n",
        "# Use the optim package to define an Optimizer that will update the weights of\r\n",
        "# the model for us. Here we will use RMSprop; the optim package contains many other\r\n",
        "# optimization algorithms. The first argument to the RMSprop constructor tells the\r\n",
        "# optimizer which Tensors it should update.\r\n",
        "learning_rate = 1e-3\r\n",
        "optimizer = torch.optim.RMSprop(model.parameters(), lr=learning_rate)\r\n",
        "for t in range(2000):\r\n",
        "    # Forward pass: compute predicted y by passing x to the model.\r\n",
        "    y_pred = model(xx)\r\n",
        "\r\n",
        "    # Compute and print loss.\r\n",
        "    loss = loss_fn(y_pred, y)\r\n",
        "    if t % 100 == 99:\r\n",
        "        print(t, loss.item())\r\n",
        "\r\n",
        "    # Before the backward pass, use the optimizer object to zero all of the\r\n",
        "    # gradients for the variables it will update (which are the learnable\r\n",
        "    # weights of the model). This is because by default, gradients are\r\n",
        "    # accumulated in buffers( i.e, not overwritten) whenever .backward()\r\n",
        "    # is called. Checkout docs of torch.autograd.backward for more details.\r\n",
        "    optimizer.zero_grad()\r\n",
        "\r\n",
        "    # Backward pass: compute gradient of the loss with respect to model\r\n",
        "    # parameters\r\n",
        "    loss.backward()\r\n",
        "\r\n",
        "    # Calling the step function on an Optimizer makes an update to its\r\n",
        "    # parameters\r\n",
        "    optimizer.step()\r\n",
        "\r\n",
        "\r\n",
        "linear_layer = model[0]\r\n",
        "print(f'Result: y = {linear_layer.bias.item()} + {linear_layer.weight[:, 0].item()} x + {linear_layer.weight[:, 1].item()} x^2 + {linear_layer.weight[:, 2].item()} x^3')"
      ],
      "execution_count": 7,
      "outputs": [
        {
          "output_type": "stream",
          "text": [
            "99 32511.53125\n",
            "199 15291.8505859375\n",
            "299 6354.06005859375\n",
            "399 2188.24560546875\n",
            "499 763.8770751953125\n",
            "599 468.343994140625\n",
            "699 407.4111022949219\n",
            "799 353.5896911621094\n",
            "899 288.10296630859375\n",
            "999 218.29310607910156\n",
            "1099 153.53831481933594\n",
            "1199 99.94013977050781\n",
            "1299 59.7989387512207\n",
            "1399 32.9314079284668\n",
            "1499 17.597166061401367\n",
            "1599 10.915935516357422\n",
            "1699 9.05433177947998\n",
            "1799 8.855382919311523\n",
            "1899 8.866433143615723\n",
            "1999 8.858022689819336\n",
            "Result: y = 3.1307196834973183e-09 + 0.8570054769515991 x + -7.606479002220112e-09 x^2 + -0.09298793226480484 x^3\n"
          ],
          "name": "stdout"
        }
      ]
    },
    {
      "cell_type": "markdown",
      "metadata": {
        "id": "jPIAPjz3Cw7H"
      },
      "source": [
        "## PyTorch: Custom nn Modules\r\n",
        "\r\n",
        "you can define your own Modules by subclassing nn.Module and defining a forward which receives input Tensors and produces output Tensors using other modules or other autograd operations on Tensors."
      ]
    },
    {
      "cell_type": "code",
      "metadata": {
        "colab": {
          "base_uri": "https://localhost:8080/"
        },
        "id": "Yra9avEGC19l",
        "outputId": "f8c842d6-695f-4e9d-96af-d1dbc779b4b7"
      },
      "source": [
        "class Polynomial3(torch.nn.Module):\r\n",
        "    def __init__(self):\r\n",
        "        \"\"\"\r\n",
        "        In the constructor we instantiate four parameters and assign them as\r\n",
        "        member parameters.\r\n",
        "        \"\"\"\r\n",
        "        super().__init__()\r\n",
        "        self.a = torch.nn.Parameter(torch.randn(()))\r\n",
        "        self.b = torch.nn.Parameter(torch.randn(()))\r\n",
        "        self.c = torch.nn.Parameter(torch.randn(()))\r\n",
        "        self.d = torch.nn.Parameter(torch.randn(()))\r\n",
        "\r\n",
        "    def forward(self, x):\r\n",
        "        \"\"\"\r\n",
        "        In the forward function we accept a Tensor of input data and we must return\r\n",
        "        a Tensor of output data. We can use Modules defined in the constructor as\r\n",
        "        well as arbitrary operators on Tensors.\r\n",
        "        \"\"\"\r\n",
        "        return self.a + self.b * x + self.c * x ** 2 + self.d * x ** 3\r\n",
        "\r\n",
        "    def string(self):\r\n",
        "        \"\"\"\r\n",
        "        Just like any class in Python, you can also define custom method on PyTorch modules\r\n",
        "        \"\"\"\r\n",
        "        return f'y = {self.a.item()} + {self.b.item()} x + {self.c.item()} x^2 + {self.d.item()} x^3'\r\n",
        "\r\n",
        "\r\n",
        "# Create Tensors to hold input and outputs.\r\n",
        "x = torch.linspace(-math.pi, math.pi, 2000)\r\n",
        "y = torch.sin(x)\r\n",
        "\r\n",
        "# Construct our model by instantiating the class defined above\r\n",
        "model = Polynomial3()\r\n",
        "\r\n",
        "# Construct our loss function and an Optimizer. The call to model.parameters()\r\n",
        "# in the SGD constructor will contain the learnable parameters of the nn.Linear\r\n",
        "# module which is members of the model.\r\n",
        "criterion = torch.nn.MSELoss(reduction='sum')\r\n",
        "optimizer = torch.optim.SGD(model.parameters(), lr=1e-6)\r\n",
        "for t in range(2000):\r\n",
        "    # Forward pass: Compute predicted y by passing x to the model\r\n",
        "    y_pred = model(x)\r\n",
        "\r\n",
        "    # Compute and print loss\r\n",
        "    loss = criterion(y_pred, y)\r\n",
        "    if t % 100 == 99:\r\n",
        "        print(t, loss.item())\r\n",
        "\r\n",
        "    # Zero gradients, perform a backward pass, and update the weights.\r\n",
        "    optimizer.zero_grad()\r\n",
        "    loss.backward()\r\n",
        "    optimizer.step()\r\n",
        "\r\n",
        "print(f'Result: {model.string()}')"
      ],
      "execution_count": 8,
      "outputs": [
        {
          "output_type": "stream",
          "text": [
            "99 1472.870361328125\n",
            "199 988.47900390625\n",
            "299 664.7987670898438\n",
            "399 448.3737487792969\n",
            "499 303.5704650878906\n",
            "599 206.6216583251953\n",
            "699 141.66668701171875\n",
            "799 98.11571502685547\n",
            "899 68.89315795898438\n",
            "999 49.2693977355957\n",
            "1099 36.08061218261719\n",
            "1199 27.20914077758789\n",
            "1299 21.236419677734375\n",
            "1399 17.21171760559082\n",
            "1499 14.49708366394043\n",
            "1599 12.664290428161621\n",
            "1699 11.425671577453613\n",
            "1799 10.587749481201172\n",
            "1899 10.0203275680542\n",
            "1999 9.635644912719727\n",
            "Result: y = -0.019777363166213036 + 0.8356806635856628 x + 0.0034119272604584694 x^2 + -0.09033476561307907 x^3\n"
          ],
          "name": "stdout"
        }
      ]
    },
    {
      "cell_type": "markdown",
      "metadata": {
        "id": "0Yz7gcBCDXIK"
      },
      "source": [
        "## PyTorch: Control Flow + Weight Sharing\r\n",
        "\r\n",
        "As an example of dynamic graphs and weight sharing, we implement a very strange model: a third-fifth order polynomial that on each forward pass **chooses a random number between 3 and 5 and uses that many orders, reusing the same weights** multiple times to compute the fourth and fifth order."
      ]
    },
    {
      "cell_type": "code",
      "metadata": {
        "colab": {
          "base_uri": "https://localhost:8080/"
        },
        "id": "EUteSf0kDZwJ",
        "outputId": "06a44f2c-3f8e-4d1d-8727-078af2c5bf0f"
      },
      "source": [
        "class DynamicNet(torch.nn.Module):\r\n",
        "    def __init__(self):\r\n",
        "        \"\"\"\r\n",
        "        In the constructor we instantiate five parameters and assign them as members.\r\n",
        "        \"\"\"\r\n",
        "        super().__init__()\r\n",
        "        self.a = torch.nn.Parameter(torch.randn(()))\r\n",
        "        self.b = torch.nn.Parameter(torch.randn(()))\r\n",
        "        self.c = torch.nn.Parameter(torch.randn(()))\r\n",
        "        self.d = torch.nn.Parameter(torch.randn(()))\r\n",
        "        self.e = torch.nn.Parameter(torch.randn(()))\r\n",
        "\r\n",
        "    def forward(self, x):\r\n",
        "        \"\"\"\r\n",
        "        For the forward pass of the model, we randomly choose either 4, 5\r\n",
        "        and reuse the e parameter to compute the contribution of these orders.\r\n",
        "\r\n",
        "        Since each forward pass builds a dynamic computation graph, we can use normal\r\n",
        "        Python control-flow operators like loops or conditional statements when\r\n",
        "        defining the forward pass of the model.\r\n",
        "\r\n",
        "        Here we also see that it is perfectly safe to reuse the same parameter many\r\n",
        "        times when defining a computational graph.\r\n",
        "        \"\"\"\r\n",
        "        y = self.a + self.b * x + self.c * x ** 2 + self.d * x ** 3\r\n",
        "        for exp in range(4, random.randint(4, 6)):\r\n",
        "            y = y + self.e * x ** exp\r\n",
        "        return y\r\n",
        "\r\n",
        "    def string(self):\r\n",
        "        \"\"\"\r\n",
        "        Just like any class in Python, you can also define custom method on PyTorch modules\r\n",
        "        \"\"\"\r\n",
        "        return f'y = {self.a.item()} + {self.b.item()} x + {self.c.item()} x^2 + {self.d.item()} x^3 + {self.e.item()} x^4 ? + {self.e.item()} x^5 ?'\r\n",
        "\r\n",
        "\r\n",
        "# Create Tensors to hold input and outputs.\r\n",
        "x = torch.linspace(-math.pi, math.pi, 2000)\r\n",
        "y = torch.sin(x)\r\n",
        "\r\n",
        "# Construct our model by instantiating the class defined above\r\n",
        "model = DynamicNet()\r\n",
        "\r\n",
        "# Construct our loss function and an Optimizer. Training this strange model with\r\n",
        "# vanilla stochastic gradient descent is tough, so we use momentum\r\n",
        "criterion = torch.nn.MSELoss(reduction='sum')\r\n",
        "optimizer = torch.optim.SGD(model.parameters(), lr=1e-8, momentum=0.9)\r\n",
        "for t in range(30000):\r\n",
        "    # Forward pass: Compute predicted y by passing x to the model\r\n",
        "    y_pred = model(x)\r\n",
        "\r\n",
        "    # Compute and print loss\r\n",
        "    loss = criterion(y_pred, y)\r\n",
        "    if t % 2000 == 1999:\r\n",
        "        print(t, loss.item())\r\n",
        "\r\n",
        "    # Zero gradients, perform a backward pass, and update the weights.\r\n",
        "    optimizer.zero_grad()\r\n",
        "    loss.backward()\r\n",
        "    optimizer.step()\r\n",
        "\r\n",
        "print(f'Result: {model.string()}')"
      ],
      "execution_count": 11,
      "outputs": [
        {
          "output_type": "stream",
          "text": [
            "1999 1343.4888916015625\n",
            "3999 647.5433349609375\n",
            "5999 336.38800048828125\n",
            "7999 174.19346618652344\n",
            "9999 94.61349487304688\n",
            "11999 50.01389694213867\n",
            "13999 29.58765983581543\n",
            "15999 20.042503356933594\n",
            "17999 14.153797149658203\n",
            "19999 11.523721694946289\n",
            "21999 10.214447021484375\n",
            "23999 9.172511100769043\n",
            "25999 9.21811580657959\n",
            "27999 9.09883975982666\n",
            "29999 8.945518493652344\n",
            "Result: y = 0.010548789985477924 + 0.8587434887886047 x + -0.0024904729798436165 x^2 + -0.09399160742759705 x^3 + 0.0001352339459117502 x^4 ? + 0.0001352339459117502 x^5 ?\n"
          ],
          "name": "stdout"
        }
      ]
    }
  ]
}