{
  "nbformat": 4,
  "nbformat_minor": 0,
  "metadata": {
    "colab": {
      "name": "7_1_profiliong_module.ipynb",
      "provenance": [],
      "collapsed_sections": [],
      "authorship_tag": "ABX9TyNqE7dIeXQTKZ3fCia1xYF8",
      "include_colab_link": true
    },
    "kernelspec": {
      "name": "python3",
      "display_name": "Python 3"
    },
    "accelerator": "GPU"
  },
  "cells": [
    {
      "cell_type": "markdown",
      "metadata": {
        "id": "view-in-github",
        "colab_type": "text"
      },
      "source": [
        "<a href=\"https://colab.research.google.com/github/chihina/pytorch-tutorial/blob/master/7_1_profiliong_module.ipynb\" target=\"_parent\"><img src=\"https://colab.research.google.com/assets/colab-badge.svg\" alt=\"Open In Colab\"/></a>"
      ]
    },
    {
      "cell_type": "markdown",
      "metadata": {
        "id": "fnAVuv8bb_Qy"
      },
      "source": [
        "#**Tutorial 7-1: Profiling your PyTorch Module**  \n",
        "https://pytorch.org/tutorials/beginner/profiler.html"
      ]
    },
    {
      "cell_type": "markdown",
      "metadata": {
        "id": "gb_k32AUeKLd"
      },
      "source": [
        "#**Tutorial 7-1: Profiling your PyTorch Module**  \n",
        "https://pytorch.org/tutorials/beginner/profiler.html"
      ]
    },
    {
      "cell_type": "markdown",
      "metadata": {
        "id": "MbjlGCkmeYRo"
      },
      "source": [
        "# Overview\n",
        "In this tutorial, we use the profiler API.  \n",
        "We can know the time and memory cost of various PyTorch oprerations.  "
      ]
    },
    {
      "cell_type": "code",
      "metadata": {
        "id": "qJ9bEFKPeTjm"
      },
      "source": [
        "import torch\n",
        "import numpy as np\n",
        "from torch import nn\n",
        "import torch.autograd.profiler as profiler"
      ],
      "execution_count": 1,
      "outputs": []
    },
    {
      "cell_type": "markdown",
      "metadata": {
        "id": "hiKjRQPcfVQ-"
      },
      "source": [
        "# Performance debugging using Profiler\n",
        "\n",
        "Profiler can be useful to identify performance bottlenecks in our models.  \n",
        "\n",
        "We wrap code for sub-task in separate labelled context manager using `profiler.record_function(\"label\")`"
      ]
    },
    {
      "cell_type": "code",
      "metadata": {
        "id": "V6aolaOtf3hh"
      },
      "source": [
        "class MyModule(nn.Module):\n",
        "    def __init__(self, in_features: int, out_features: int, bias: bool = True):\n",
        "        super(MyModule, self).__init__()\n",
        "        self.linear = nn.Linear(in_features, out_features, bias)\n",
        "\n",
        "    def forward(self, input, mask):\n",
        "        with profiler.record_function(\"LINEAR PASS\"):\n",
        "            out = self.linear(input)\n",
        "\n",
        "        with profiler.record_function(\"MASK INDICES\"):\n",
        "            threshold = out.sum(axis=1).mean().item()\n",
        "            hi_idx = np.argwhere(mask.cpu().numpy() > threshold)\n",
        "            hi_idx = torch.from_numpy(hi_idx).cuda()\n",
        "\n",
        "        return out, hi_idx"
      ],
      "execution_count": 2,
      "outputs": []
    },
    {
      "cell_type": "markdown",
      "metadata": {
        "id": "G6TAqZClgLcH"
      },
      "source": [
        "# Profile the forward pass\n",
        "Before we run the profiler, we warm-up CUDA to ensure accurate performance benchmarking.  \n",
        "\n",
        "We wrap the forward pass of our module in the profiler.profile context manager. The with_stack=True parameter appends the file and line number of the operation in the trace."
      ]
    },
    {
      "cell_type": "code",
      "metadata": {
        "id": "gh4x8_rtgpV7"
      },
      "source": [
        "model = MyModule(500, 10).cuda()\n",
        "input = torch.rand(128, 500).cuda()\n",
        "mask = torch.rand((500, 500, 500), dtype=torch.double).cuda()\n",
        "\n",
        "# warm-up\n",
        "model(input, mask)\n",
        "\n",
        "with profiler.profile(with_stack=True, profile_memory=True) as prof:\n",
        "    out, idx = model(input, mask)"
      ],
      "execution_count": 3,
      "outputs": []
    },
    {
      "cell_type": "markdown",
      "metadata": {
        "id": "igZnaEDZg3D8"
      },
      "source": [
        "# Print profiler results\n",
        "\n",
        "`profiler.key_averages` aggregates the results by operator name, and optionally by input shapes and/or stack trace events."
      ]
    },
    {
      "cell_type": "code",
      "metadata": {
        "colab": {
          "base_uri": "https://localhost:8080/"
        },
        "id": "MTUcx2omg6Ca",
        "outputId": "e109eae1-a891-4601-d1a4-6b55a8941ed0"
      },
      "source": [
        "print(prof.key_averages(group_by_stack_n=5).table(sort_by='self_cpu_time_total', row_limit=5))"
      ],
      "execution_count": 4,
      "outputs": [
        {
          "output_type": "stream",
          "text": [
            "-----------------------------  ------------  ------------  ------------  ------------  ------------  ------------  ------------  ------------  ------------  ------------  ---------------------------------------------------------------------------  \n",
            "                         Name    Self CPU %      Self CPU   CPU total %     CPU total  CPU time avg       CPU Mem  Self CPU Mem      CUDA Mem  Self CUDA Mem    # of Calls  Source Location                                                              \n",
            "-----------------------------  ------------  ------------  ------------  ------------  ------------  ------------  ------------  ------------  ------------  ------------  ---------------------------------------------------------------------------  \n",
            "                 MASK INDICES        81.17%        4.043s        99.93%        4.978s        4.978s          -4 b    -953.67 Mb       2.79 Gb      -1.00 Kb             1  /usr/local/lib/python3.6/dist-packages/torch/autograd/profiler.py(503): __e  \n",
            "                                                                                                                                                                           <ipython-input-2-7f74615814c7>(10): forward                                  \n",
            "                                                                                                                                                                           /usr/local/lib/python3.6/dist-packages/torch/nn/modules/module.py(727): _ca  \n",
            "                                                                                                                                                                           <ipython-input-3-258d6d63f9fa>(9): <module>                                  \n",
            "                                                                                                                                                                           /usr/local/lib/python3.6/dist-packages/IPython/core/interactiveshell.py(288  \n",
            "                                                                                                                                                                                                                                                        \n",
            "                  aten::copy_        12.74%     634.702ms        12.74%     634.702ms     634.702ms           0 b           0 b           0 b           0 b             1  <ipython-input-2-7f74615814c7>(13): forward                                  \n",
            "                                                                                                                                                                           /usr/local/lib/python3.6/dist-packages/torch/nn/modules/module.py(727): _ca  \n",
            "                                                                                                                                                                           <ipython-input-3-258d6d63f9fa>(9): <module>                                  \n",
            "                                                                                                                                                                           /usr/local/lib/python3.6/dist-packages/IPython/core/interactiveshell.py(288  \n",
            "                                                                                                                                                                           /usr/local/lib/python3.6/dist-packages/IPython/core/interactiveshell.py(282  \n",
            "                                                                                                                                                                                                                                                        \n",
            "                  aten::copy_         6.00%     298.728ms         6.00%     298.728ms     298.728ms           0 b           0 b           0 b           0 b             1  <ipython-input-2-7f74615814c7>(12): forward                                  \n",
            "                                                                                                                                                                           /usr/local/lib/python3.6/dist-packages/torch/nn/modules/module.py(727): _ca  \n",
            "                                                                                                                                                                           <ipython-input-3-258d6d63f9fa>(9): <module>                                  \n",
            "                                                                                                                                                                           /usr/local/lib/python3.6/dist-packages/IPython/core/interactiveshell.py(288  \n",
            "                                                                                                                                                                           /usr/local/lib/python3.6/dist-packages/IPython/core/interactiveshell.py(282  \n",
            "                                                                                                                                                                                                                                                        \n",
            "                  aten::zeros         0.04%       2.151ms         0.05%       2.286ms       2.286ms           4 b           0 b           0 b           0 b             1  /usr/local/lib/python3.6/dist-packages/torch/autograd/profiler.py(500): __i  \n",
            "                                                                                                                                                                           <ipython-input-2-7f74615814c7>(7): forward                                   \n",
            "                                                                                                                                                                           /usr/local/lib/python3.6/dist-packages/torch/nn/modules/module.py(727): _ca  \n",
            "                                                                                                                                                                           <ipython-input-3-258d6d63f9fa>(9): <module>                                  \n",
            "                                                                                                                                                                           /usr/local/lib/python3.6/dist-packages/IPython/core/interactiveshell.py(288  \n",
            "                                                                                                                                                                                                                                                        \n",
            "                  aten::addmm         0.01%     384.856us         0.01%     603.413us     603.413us           0 b           0 b       5.00 Kb           0 b             1  /usr/local/lib/python3.6/dist-packages/torch/nn/functional.py(1690): linear  \n",
            "                                                                                                                                                                           /usr/local/lib/python3.6/dist-packages/torch/nn/modules/linear.py(93): forw  \n",
            "                                                                                                                                                                           /usr/local/lib/python3.6/dist-packages/torch/nn/modules/module.py(727): _ca  \n",
            "                                                                                                                                                                           <ipython-input-2-7f74615814c7>(8): forward                                   \n",
            "                                                                                                                                                                           /usr/local/lib/python3.6/dist-packages/torch/nn/modules/module.py(727): _ca  \n",
            "                                                                                                                                                                                                                                                        \n",
            "-----------------------------  ------------  ------------  ------------  ------------  ------------  ------------  ------------  ------------  ------------  ------------  ---------------------------------------------------------------------------  \n",
            "Self CPU time total: 4.981s\n",
            "\n"
          ],
          "name": "stdout"
        }
      ]
    },
    {
      "cell_type": "markdown",
      "metadata": {
        "id": "iweT4RTahdsF"
      },
      "source": [
        "# Improve memory performance\n",
        "\n",
        "Let’s try to tackle the memory consumption first. We can see that the .to() operation at line 12 consumes 953.67 Mb.  \n",
        "This operation copies mask to the CPU. mask is initialized with a torch.double datatype. Can we reduce the memory footprint by casting it to torch.float instead?"
      ]
    },
    {
      "cell_type": "code",
      "metadata": {
        "colab": {
          "base_uri": "https://localhost:8080/"
        },
        "id": "FwG_JebhherJ",
        "outputId": "e1e58b01-d300-4c1c-8433-0cf318fd37e0"
      },
      "source": [
        "model = MyModule(500, 10).cuda()\n",
        "input = torch.rand(128, 500).cuda()\n",
        "mask = torch.rand((500, 500, 500), dtype=torch.float).cuda()\n",
        "\n",
        "# warm-up\n",
        "model(input, mask)\n",
        "\n",
        "with profiler.profile(with_stack=True, profile_memory=True) as prof:\n",
        "    out, idx = model(input, mask)\n",
        "\n",
        "print(prof.key_averages(group_by_stack_n=5).table(sort_by='self_cpu_time_total', row_limit=5))"
      ],
      "execution_count": 5,
      "outputs": [
        {
          "output_type": "stream",
          "text": [
            "-----------------------------  ------------  ------------  ------------  ------------  ------------  ------------  ------------  ------------  ------------  ------------  ---------------------------------------------------------------------------  \n",
            "                         Name    Self CPU %      Self CPU   CPU total %     CPU total  CPU time avg       CPU Mem  Self CPU Mem      CUDA Mem  Self CUDA Mem    # of Calls  Source Location                                                              \n",
            "-----------------------------  ------------  ------------  ------------  ------------  ------------  ------------  ------------  ------------  ------------  ------------  ---------------------------------------------------------------------------  \n",
            "                 MASK INDICES        78.97%        1.991s        99.96%        2.520s        2.520s          -4 b    -476.84 Mb       1.60 Gb      -1.00 Kb             1  /usr/local/lib/python3.6/dist-packages/torch/autograd/profiler.py(503): __e  \n",
            "                                                                                                                                                                           <ipython-input-2-7f74615814c7>(10): forward                                  \n",
            "                                                                                                                                                                           /usr/local/lib/python3.6/dist-packages/torch/nn/modules/module.py(727): _ca  \n",
            "                                                                                                                                                                           <ipython-input-5-fd876269d524>(9): <module>                                  \n",
            "                                                                                                                                                                           /usr/local/lib/python3.6/dist-packages/IPython/core/interactiveshell.py(288  \n",
            "                                                                                                                                                                                                                                                        \n",
            "                  aten::copy_        14.72%     371.123ms        14.72%     371.123ms     371.123ms           0 b           0 b           0 b           0 b             1  <ipython-input-2-7f74615814c7>(13): forward                                  \n",
            "                                                                                                                                                                           /usr/local/lib/python3.6/dist-packages/torch/nn/modules/module.py(727): _ca  \n",
            "                                                                                                                                                                           <ipython-input-5-fd876269d524>(9): <module>                                  \n",
            "                                                                                                                                                                           /usr/local/lib/python3.6/dist-packages/IPython/core/interactiveshell.py(288  \n",
            "                                                                                                                                                                           /usr/local/lib/python3.6/dist-packages/IPython/core/interactiveshell.py(282  \n",
            "                                                                                                                                                                                                                                                        \n",
            "                  aten::copy_         6.23%     156.987ms         6.23%     156.987ms     156.987ms           0 b           0 b           0 b           0 b             1  <ipython-input-2-7f74615814c7>(12): forward                                  \n",
            "                                                                                                                                                                           /usr/local/lib/python3.6/dist-packages/torch/nn/modules/module.py(727): _ca  \n",
            "                                                                                                                                                                           <ipython-input-5-fd876269d524>(9): <module>                                  \n",
            "                                                                                                                                                                           /usr/local/lib/python3.6/dist-packages/IPython/core/interactiveshell.py(288  \n",
            "                                                                                                                                                                           /usr/local/lib/python3.6/dist-packages/IPython/core/interactiveshell.py(282  \n",
            "                                                                                                                                                                                                                                                        \n",
            "                  aten::addmm         0.01%     201.349us         0.02%     413.760us     413.760us           0 b           0 b       5.00 Kb           0 b             1  /usr/local/lib/python3.6/dist-packages/torch/nn/functional.py(1690): linear  \n",
            "                                                                                                                                                                           /usr/local/lib/python3.6/dist-packages/torch/nn/modules/linear.py(93): forw  \n",
            "                                                                                                                                                                           /usr/local/lib/python3.6/dist-packages/torch/nn/modules/module.py(727): _ca  \n",
            "                                                                                                                                                                           <ipython-input-2-7f74615814c7>(8): forward                                   \n",
            "                                                                                                                                                                           /usr/local/lib/python3.6/dist-packages/torch/nn/modules/module.py(727): _ca  \n",
            "                                                                                                                                                                                                                                                        \n",
            "                  aten::zeros         0.00%     121.254us         0.01%     237.049us     237.049us           4 b           0 b           0 b           0 b             1  /usr/local/lib/python3.6/dist-packages/torch/autograd/profiler.py(500): __i  \n",
            "                                                                                                                                                                           <ipython-input-2-7f74615814c7>(7): forward                                   \n",
            "                                                                                                                                                                           /usr/local/lib/python3.6/dist-packages/torch/nn/modules/module.py(727): _ca  \n",
            "                                                                                                                                                                           <ipython-input-5-fd876269d524>(9): <module>                                  \n",
            "                                                                                                                                                                           /usr/local/lib/python3.6/dist-packages/IPython/core/interactiveshell.py(288  \n",
            "                                                                                                                                                                                                                                                        \n",
            "-----------------------------  ------------  ------------  ------------  ------------  ------------  ------------  ------------  ------------  ------------  ------------  ---------------------------------------------------------------------------  \n",
            "Self CPU time total: 2.521s\n",
            "\n"
          ],
          "name": "stdout"
        }
      ]
    },
    {
      "cell_type": "markdown",
      "metadata": {
        "id": "sFTkRFjpi1pi"
      },
      "source": [
        "# Improve time performance\n",
        "Turns out copying a matrix from CUDA to CPU is pretty expensive!  \n",
        "\n",
        "The aten::copy_ operator in forward (12) copies mask to CPU so that it can use the NumPy argwhere function.  \n",
        "\n",
        "aten::copy_ at forward(13) copies the array back to CUDA as a tensor. We could eliminate both of these if we use a torch function nonzero() here instead.\n",
        "\n"
      ]
    },
    {
      "cell_type": "code",
      "metadata": {
        "colab": {
          "base_uri": "https://localhost:8080/"
        },
        "id": "vANXggfTjDPT",
        "outputId": "475516fe-21af-4a0d-fd40-280524dd4203"
      },
      "source": [
        "class MyModule(nn.Module):\n",
        "    def __init__(self, in_features: int, out_features: int, bias: bool = True):\n",
        "        super(MyModule, self).__init__()\n",
        "        self.linear = nn.Linear(in_features, out_features, bias)\n",
        "\n",
        "    def forward(self, input, mask):\n",
        "        with profiler.record_function(\"LINEAR PASS\"):\n",
        "            out = self.linear(input)\n",
        "\n",
        "        with profiler.record_function(\"MASK INDICES\"):\n",
        "            threshold = out.sum(axis=1).mean()\n",
        "            hi_idx = (mask > threshold).nonzero(as_tuple=True)\n",
        "\n",
        "        return out, hi_idx\n",
        "\n",
        "\n",
        "model = MyModule(500, 10).cuda()\n",
        "input = torch.rand(128, 500).cuda()\n",
        "mask = torch.rand((500, 500, 500), dtype=torch.float).cuda()\n",
        "\n",
        "# warm-up\n",
        "model(input, mask)\n",
        "\n",
        "with profiler.profile(with_stack=True, profile_memory=True) as prof:\n",
        "    out, idx = model(input, mask)\n",
        "\n",
        "print(prof.key_averages(group_by_stack_n=5).table(sort_by='self_cpu_time_total', row_limit=5))"
      ],
      "execution_count": 7,
      "outputs": [
        {
          "output_type": "stream",
          "text": [
            "-----------------------  ------------  ------------  ------------  ------------  ------------  ------------  ------------  ------------  ------------  ------------  ---------------------------------------------------------------------------  \n",
            "                   Name    Self CPU %      Self CPU   CPU total %     CPU total  CPU time avg       CPU Mem  Self CPU Mem      CUDA Mem  Self CUDA Mem    # of Calls  Source Location                                                              \n",
            "-----------------------  ------------  ------------  ------------  ------------  ------------  ------------  ------------  ------------  ------------  ------------  ---------------------------------------------------------------------------  \n",
            "          aten::nonzero        78.78%       6.770ms        81.07%       6.967ms       6.967ms           0 b           0 b           0 b           0 b             1  <ipython-input-7-c7eb287ee4a0>(12): forward                                  \n",
            "                                                                                                                                                                     /usr/local/lib/python3.6/dist-packages/torch/nn/modules/module.py(727): _ca  \n",
            "                                                                                                                                                                     <ipython-input-7-c7eb287ee4a0>(25): <module>                                 \n",
            "                                                                                                                                                                     /usr/local/lib/python3.6/dist-packages/IPython/core/interactiveshell.py(288  \n",
            "                                                                                                                                                                     /usr/local/lib/python3.6/dist-packages/IPython/core/interactiveshell.py(282  \n",
            "                                                                                                                                                                                                                                                  \n",
            "            aten::addmm         1.68%     144.799us         4.09%     351.529us     351.529us           0 b           0 b       5.00 Kb           0 b             1  /usr/local/lib/python3.6/dist-packages/torch/nn/functional.py(1690): linear  \n",
            "                                                                                                                                                                     /usr/local/lib/python3.6/dist-packages/torch/nn/modules/linear.py(93): forw  \n",
            "                                                                                                                                                                     /usr/local/lib/python3.6/dist-packages/torch/nn/modules/module.py(727): _ca  \n",
            "                                                                                                                                                                     <ipython-input-7-c7eb287ee4a0>(8): forward                                   \n",
            "                                                                                                                                                                     /usr/local/lib/python3.6/dist-packages/torch/nn/modules/module.py(727): _ca  \n",
            "                                                                                                                                                                                                                                                  \n",
            "               aten::gt         1.14%      98.201us         2.57%     220.766us     110.383us           0 b           0 b     238.42 Mb           0 b             2  /usr/local/lib/python3.6/dist-packages/torch/tensor.py(27): wrapped          \n",
            "                                                                                                                                                                     <ipython-input-7-c7eb287ee4a0>(12): forward                                  \n",
            "                                                                                                                                                                     /usr/local/lib/python3.6/dist-packages/torch/nn/modules/module.py(727): _ca  \n",
            "                                                                                                                                                                     <ipython-input-7-c7eb287ee4a0>(25): <module>                                 \n",
            "                                                                                                                                                                     /usr/local/lib/python3.6/dist-packages/IPython/core/interactiveshell.py(288  \n",
            "                                                                                                                                                                                                                                                  \n",
            "       aten::as_strided         1.13%      97.149us         1.13%      97.149us      24.287us           0 b           0 b           0 b           0 b             4  <ipython-input-7-c7eb287ee4a0>(12): forward                                  \n",
            "                                                                                                                                                                     /usr/local/lib/python3.6/dist-packages/torch/nn/modules/module.py(727): _ca  \n",
            "                                                                                                                                                                     <ipython-input-7-c7eb287ee4a0>(25): <module>                                 \n",
            "                                                                                                                                                                     /usr/local/lib/python3.6/dist-packages/IPython/core/interactiveshell.py(288  \n",
            "                                                                                                                                                                     /usr/local/lib/python3.6/dist-packages/IPython/core/interactiveshell.py(282  \n",
            "                                                                                                                                                                                                                                                  \n",
            "           aten::stride         1.02%      87.928us         1.02%      87.928us      29.309us           0 b           0 b           0 b           0 b             3  /usr/local/lib/python3.6/dist-packages/torch/nn/functional.py(1690): linear  \n",
            "                                                                                                                                                                     /usr/local/lib/python3.6/dist-packages/torch/nn/modules/linear.py(93): forw  \n",
            "                                                                                                                                                                     /usr/local/lib/python3.6/dist-packages/torch/nn/modules/module.py(727): _ca  \n",
            "                                                                                                                                                                     <ipython-input-7-c7eb287ee4a0>(8): forward                                   \n",
            "                                                                                                                                                                     /usr/local/lib/python3.6/dist-packages/torch/nn/modules/module.py(727): _ca  \n",
            "                                                                                                                                                                                                                                                  \n",
            "-----------------------  ------------  ------------  ------------  ------------  ------------  ------------  ------------  ------------  ------------  ------------  ---------------------------------------------------------------------------  \n",
            "Self CPU time total: 8.594ms\n",
            "\n"
          ],
          "name": "stdout"
        }
      ]
    },
    {
      "cell_type": "markdown",
      "metadata": {
        "id": "1ukuVS7Fkl8i"
      },
      "source": [
        "# Concusion\n",
        "we can use profiler to reduce memory and time costs. "
      ]
    }
  ]
}