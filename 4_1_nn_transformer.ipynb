{
  "nbformat": 4,
  "nbformat_minor": 0,
  "metadata": {
    "colab": {
      "name": "4_1_nn_transformer.ipynb",
      "provenance": [],
      "authorship_tag": "ABX9TyNtSSjsdNyqZwFhQUPvN9gw",
      "include_colab_link": true
    },
    "kernelspec": {
      "name": "python3",
      "display_name": "Python 3"
    },
    "accelerator": "GPU"
  },
  "cells": [
    {
      "cell_type": "markdown",
      "metadata": {
        "id": "view-in-github",
        "colab_type": "text"
      },
      "source": [
        "<a href=\"https://colab.research.google.com/github/chihina/pytorch-tutorial/blob/master/4_1_nn_transformer.ipynb\" target=\"_parent\"><img src=\"https://colab.research.google.com/assets/colab-badge.svg\" alt=\"Open In Colab\"/></a>"
      ]
    },
    {
      "cell_type": "code",
      "metadata": {
        "id": "vmB6TY7MGVNu"
      },
      "source": [
        ""
      ],
      "execution_count": null,
      "outputs": []
    },
    {
      "cell_type": "markdown",
      "metadata": {
        "id": "GXWgG9ROGjCB"
      },
      "source": [
        "#**Tutorial 4-1: Sequence-to-Sequence Modeling with nn.Transformer and TorchText**  \n",
        "https://pytorch.org/tutorials/beginner/transformer_tutorial.html"
      ]
    },
    {
      "cell_type": "markdown",
      "metadata": {
        "id": "bTgoj_CEGq3-"
      },
      "source": [
        "# Overview\n",
        "This is a tutorial on how to train a sequence-to-sequence model that uses the nn.Transformer module."
      ]
    },
    {
      "cell_type": "markdown",
      "metadata": {
        "id": "Sxyj9gr9HEie"
      },
      "source": [
        "# Define model"
      ]
    },
    {
      "cell_type": "code",
      "metadata": {
        "colab": {
          "base_uri": "https://localhost:8080/"
        },
        "id": "0euQneMrIH0-",
        "outputId": "2b0f7b58-806f-4816-b7bb-1c6f2fe0374b"
      },
      "source": [
        "%matplotlib inline\n",
        "!pip install -U torchtext==0.8.0\n",
        "import math\n",
        "import torch\n",
        "import torch.nn as nn\n",
        "import torch.nn.functional as F\n",
        "\n",
        "class TransformerModel(nn.Module):\n",
        "\n",
        "    def __init__(self, ntoken, ninp, nhead, nhid, nlayers, dropout=0.5):\n",
        "        super(TransformerModel, self).__init__()\n",
        "        from torch.nn import TransformerEncoder, TransformerEncoderLayer\n",
        "        self.model_type = 'Transformer'\n",
        "        self.pos_encoder = PositionalEncoding(ninp, dropout)\n",
        "        encoder_layers = TransformerEncoderLayer(ninp, nhead, nhid, dropout)\n",
        "        self.transformer_encoder = TransformerEncoder(encoder_layers, nlayers)\n",
        "        self.encoder = nn.Embedding(ntoken, ninp)\n",
        "        self.ninp = ninp\n",
        "        self.decoder = nn.Linear(ninp, ntoken)\n",
        "\n",
        "        self.init_weights()\n",
        "\n",
        "    def generate_square_subsequent_mask(self, sz):\n",
        "        mask = (torch.triu(torch.ones(sz, sz)) == 1).transpose(0, 1)\n",
        "        mask = mask.float().masked_fill(mask == 0, float('-inf')).masked_fill(mask == 1, float(0.0))\n",
        "        return mask\n",
        "\n",
        "    def init_weights(self):\n",
        "        initrange = 0.1\n",
        "        self.encoder.weight.data.uniform_(-initrange, initrange)\n",
        "        self.decoder.bias.data.zero_()\n",
        "        self.decoder.weight.data.uniform_(-initrange, initrange)\n",
        "\n",
        "    def forward(self, src, src_mask):\n",
        "        src = self.encoder(src) * math.sqrt(self.ninp)\n",
        "        src = self.pos_encoder(src)\n",
        "        output = self.transformer_encoder(src, src_mask)\n",
        "        output = self.decoder(output)\n",
        "        return output"
      ],
      "execution_count": 1,
      "outputs": [
        {
          "output_type": "stream",
          "text": [
            "Collecting torchtext==0.8.0\n",
            "\u001b[?25l  Downloading https://files.pythonhosted.org/packages/23/23/8499af6d9c22b29b01f66a2c11d38ce71cd1cafa2655913c29818ed4a00f/torchtext-0.8.0-cp36-cp36m-manylinux1_x86_64.whl (6.9MB)\n",
            "\u001b[K     |████████████████████████████████| 6.9MB 10.6MB/s \n",
            "\u001b[?25hRequirement already satisfied, skipping upgrade: torch in /usr/local/lib/python3.6/dist-packages (from torchtext==0.8.0) (1.7.0+cu101)\n",
            "Requirement already satisfied, skipping upgrade: numpy in /usr/local/lib/python3.6/dist-packages (from torchtext==0.8.0) (1.19.5)\n",
            "Requirement already satisfied, skipping upgrade: requests in /usr/local/lib/python3.6/dist-packages (from torchtext==0.8.0) (2.23.0)\n",
            "Requirement already satisfied, skipping upgrade: tqdm in /usr/local/lib/python3.6/dist-packages (from torchtext==0.8.0) (4.41.1)\n",
            "Requirement already satisfied, skipping upgrade: dataclasses in /usr/local/lib/python3.6/dist-packages (from torch->torchtext==0.8.0) (0.8)\n",
            "Requirement already satisfied, skipping upgrade: future in /usr/local/lib/python3.6/dist-packages (from torch->torchtext==0.8.0) (0.16.0)\n",
            "Requirement already satisfied, skipping upgrade: typing-extensions in /usr/local/lib/python3.6/dist-packages (from torch->torchtext==0.8.0) (3.7.4.3)\n",
            "Requirement already satisfied, skipping upgrade: urllib3!=1.25.0,!=1.25.1,<1.26,>=1.21.1 in /usr/local/lib/python3.6/dist-packages (from requests->torchtext==0.8.0) (1.24.3)\n",
            "Requirement already satisfied, skipping upgrade: chardet<4,>=3.0.2 in /usr/local/lib/python3.6/dist-packages (from requests->torchtext==0.8.0) (3.0.4)\n",
            "Requirement already satisfied, skipping upgrade: certifi>=2017.4.17 in /usr/local/lib/python3.6/dist-packages (from requests->torchtext==0.8.0) (2020.12.5)\n",
            "Requirement already satisfied, skipping upgrade: idna<3,>=2.5 in /usr/local/lib/python3.6/dist-packages (from requests->torchtext==0.8.0) (2.10)\n",
            "Installing collected packages: torchtext\n",
            "  Found existing installation: torchtext 0.3.1\n",
            "    Uninstalling torchtext-0.3.1:\n",
            "      Successfully uninstalled torchtext-0.3.1\n",
            "Successfully installed torchtext-0.8.0\n"
          ],
          "name": "stdout"
        }
      ]
    },
    {
      "cell_type": "code",
      "metadata": {
        "id": "tHwoXb4MIZV0"
      },
      "source": [
        "class PositionalEncoding(nn.Module):\n",
        "\n",
        "    def __init__(self, d_model, dropout=0.1, max_len=5000):\n",
        "        super(PositionalEncoding, self).__init__()\n",
        "        self.dropout = nn.Dropout(p=dropout)\n",
        "\n",
        "        pe = torch.zeros(max_len, d_model)\n",
        "        position = torch.arange(0, max_len, dtype=torch.float).unsqueeze(1)\n",
        "        div_term = torch.exp(torch.arange(0, d_model, 2).float() * (-math.log(10000.0) / d_model))\n",
        "        pe[:, 0::2] = torch.sin(position * div_term)\n",
        "        pe[:, 1::2] = torch.cos(position * div_term)\n",
        "        pe = pe.unsqueeze(0).transpose(0, 1)\n",
        "        self.register_buffer('pe', pe)\n",
        "\n",
        "    def forward(self, x):\n",
        "        x = x + self.pe[:x.size(0), :]\n",
        "        return self.dropout(x)"
      ],
      "execution_count": 2,
      "outputs": []
    },
    {
      "cell_type": "markdown",
      "metadata": {
        "id": "VKFGnIQBIbk5"
      },
      "source": [
        "# Load and batch data"
      ]
    },
    {
      "cell_type": "code",
      "metadata": {
        "colab": {
          "base_uri": "https://localhost:8080/"
        },
        "id": "hapRDgBLIdYB",
        "outputId": "aa950ed1-8f11-4a18-ad6e-2bb858a97533"
      },
      "source": [
        "import torchtext\n",
        "from torchtext.data.utils import get_tokenizer\n",
        "TEXT = torchtext.data.Field(tokenize=get_tokenizer(\"basic_english\"),\n",
        "                            init_token='<sos>',\n",
        "                            eos_token='<eos>',\n",
        "                            lower=True)\n",
        "train_txt, val_txt, test_txt = torchtext.datasets.WikiText2.splits(TEXT)\n",
        "TEXT.build_vocab(train_txt)\n",
        "device = torch.device(\"cuda\" if torch.cuda.is_available() else \"cpu\")\n",
        "\n",
        "def batchify(data, bsz):\n",
        "    data = TEXT.numericalize([data.examples[0].text])\n",
        "    # Divide the dataset into bsz parts.\n",
        "    nbatch = data.size(0) // bsz\n",
        "    # Trim off any extra elements that wouldn't cleanly fit (remainders).\n",
        "    data = data.narrow(0, 0, nbatch * bsz)\n",
        "    # Evenly divide the data across the bsz batches.\n",
        "    data = data.view(bsz, -1).t().contiguous()\n",
        "    return data.to(device)\n",
        "\n",
        "batch_size = 20\n",
        "eval_batch_size = 10\n",
        "train_data = batchify(train_txt, batch_size)\n",
        "val_data = batchify(val_txt, eval_batch_size)\n",
        "test_data = batchify(test_txt, eval_batch_size)"
      ],
      "execution_count": 3,
      "outputs": [
        {
          "output_type": "stream",
          "text": [
            "/usr/local/lib/python3.6/dist-packages/torchtext/data/field.py:150: UserWarning: Field class will be retired soon and moved to torchtext.legacy. Please see the most recent release notes for further information.\n",
            "  warnings.warn('{} class will be retired soon and moved to torchtext.legacy. Please see the most recent release notes for further information.'.format(self.__class__.__name__), UserWarning)\n",
            "\rwikitext-2-v1.zip:   0%|          | 0.00/4.48M [00:00<?, ?B/s]"
          ],
          "name": "stderr"
        },
        {
          "output_type": "stream",
          "text": [
            "downloading wikitext-2-v1.zip\n"
          ],
          "name": "stdout"
        },
        {
          "output_type": "stream",
          "text": [
            "\rwikitext-2-v1.zip: 100%|██████████| 4.48M/4.48M [00:00<00:00, 47.9MB/s]\n"
          ],
          "name": "stderr"
        },
        {
          "output_type": "stream",
          "text": [
            "extracting\n"
          ],
          "name": "stdout"
        },
        {
          "output_type": "stream",
          "text": [
            "/usr/local/lib/python3.6/dist-packages/torchtext/data/example.py:78: UserWarning: Example class will be retired soon and moved to torchtext.legacy. Please see the most recent release notes for further information.\n",
            "  warnings.warn('Example class will be retired soon and moved to torchtext.legacy. Please see the most recent release notes for further information.', UserWarning)\n"
          ],
          "name": "stderr"
        }
      ]
    },
    {
      "cell_type": "markdown",
      "metadata": {
        "id": "i8I2ig6kIxDc"
      },
      "source": [
        "# Functions to generate input and target sequence"
      ]
    },
    {
      "cell_type": "code",
      "metadata": {
        "id": "ywNHONI1I07X"
      },
      "source": [
        "bptt = 35\n",
        "def get_batch(source, i):\n",
        "    seq_len = min(bptt, len(source) - 1 - i)\n",
        "    data = source[i:i+seq_len]\n",
        "    target = source[i+1:i+1+seq_len].reshape(-1)\n",
        "    return data, target"
      ],
      "execution_count": 4,
      "outputs": []
    },
    {
      "cell_type": "markdown",
      "metadata": {
        "id": "cXFplZp7KXee"
      },
      "source": [
        "# Initiate an instace "
      ]
    },
    {
      "cell_type": "code",
      "metadata": {
        "id": "8nh73i7FKZyB"
      },
      "source": [
        "ntokens = len(TEXT.vocab.stoi) # the size of vocabulary\n",
        "emsize = 200 # embedding dimension\n",
        "nhid = 200 # the dimension of the feedforward network model in nn.TransformerEncoder\n",
        "nlayers = 2 # the number of nn.TransformerEncoderLayer in nn.TransformerEncoder\n",
        "nhead = 2 # the number of heads in the multiheadattention models\n",
        "dropout = 0.2 # the dropout value\n",
        "model = TransformerModel(ntokens, emsize, nhead, nhid, nlayers, dropout).to(device)"
      ],
      "execution_count": 5,
      "outputs": []
    },
    {
      "cell_type": "markdown",
      "metadata": {
        "id": "HD7hXNXJKlej"
      },
      "source": [
        "# Run model"
      ]
    },
    {
      "cell_type": "code",
      "metadata": {
        "id": "i4vTIAegKmq4"
      },
      "source": [
        "criterion = nn.CrossEntropyLoss()\n",
        "lr = 5.0 # learning rate\n",
        "optimizer = torch.optim.SGD(model.parameters(), lr=lr)\n",
        "scheduler = torch.optim.lr_scheduler.StepLR(optimizer, 1.0, gamma=0.95)\n",
        "\n",
        "import time\n",
        "def train():\n",
        "    model.train() # Turn on the train mode\n",
        "    total_loss = 0.\n",
        "    start_time = time.time()\n",
        "    src_mask = model.generate_square_subsequent_mask(bptt).to(device)\n",
        "    for batch, i in enumerate(range(0, train_data.size(0) - 1, bptt)):\n",
        "        data, targets = get_batch(train_data, i)\n",
        "        optimizer.zero_grad()\n",
        "        if data.size(0) != bptt:\n",
        "            src_mask = model.generate_square_subsequent_mask(data.size(0)).to(device)\n",
        "        output = model(data, src_mask)\n",
        "        loss = criterion(output.view(-1, ntokens), targets)\n",
        "        loss.backward()\n",
        "        torch.nn.utils.clip_grad_norm_(model.parameters(), 0.5)\n",
        "        optimizer.step()\n",
        "\n",
        "        total_loss += loss.item()\n",
        "        log_interval = 200\n",
        "        if batch % log_interval == 0 and batch > 0:\n",
        "            cur_loss = total_loss / log_interval\n",
        "            elapsed = time.time() - start_time\n",
        "            print('| epoch {:3d} | {:5d}/{:5d} batches | '\n",
        "                  'lr {:02.2f} | ms/batch {:5.2f} | '\n",
        "                  'loss {:5.2f} | ppl {:8.2f}'.format(\n",
        "                    epoch, batch, len(train_data) // bptt, scheduler.get_lr()[0],\n",
        "                    elapsed * 1000 / log_interval,\n",
        "                    cur_loss, math.exp(cur_loss)))\n",
        "            total_loss = 0\n",
        "            start_time = time.time()\n",
        "\n",
        "def evaluate(eval_model, data_source):\n",
        "    eval_model.eval() # Turn on the evaluation mode\n",
        "    total_loss = 0.\n",
        "    src_mask = model.generate_square_subsequent_mask(bptt).to(device)\n",
        "    with torch.no_grad():\n",
        "        for i in range(0, data_source.size(0) - 1, bptt):\n",
        "            data, targets = get_batch(data_source, i)\n",
        "            if data.size(0) != bptt:\n",
        "                src_mask = model.generate_square_subsequent_mask(data.size(0)).to(device)\n",
        "            output = eval_model(data, src_mask)\n",
        "            output_flat = output.view(-1, ntokens)\n",
        "            total_loss += len(data) * criterion(output_flat, targets).item()\n",
        "    return total_loss / (len(data_source) - 1)"
      ],
      "execution_count": 6,
      "outputs": []
    },
    {
      "cell_type": "code",
      "metadata": {
        "colab": {
          "base_uri": "https://localhost:8080/"
        },
        "id": "5mDKhUpKK7lA",
        "outputId": "232932e0-4676-4709-8012-e75c65764f26"
      },
      "source": [
        "best_val_loss = float(\"inf\")\n",
        "epochs = 3 # The number of epochs\n",
        "best_model = None\n",
        "\n",
        "for epoch in range(1, epochs + 1):\n",
        "    epoch_start_time = time.time()\n",
        "    train()\n",
        "    val_loss = evaluate(model, val_data)\n",
        "    print('-' * 89)\n",
        "    print('| end of epoch {:3d} | time: {:5.2f}s | valid loss {:5.2f} | '\n",
        "          'valid ppl {:8.2f}'.format(epoch, (time.time() - epoch_start_time),\n",
        "                                     val_loss, math.exp(val_loss)))\n",
        "    print('-' * 89)\n",
        "\n",
        "    if val_loss < best_val_loss:\n",
        "        best_val_loss = val_loss\n",
        "        best_model = model\n",
        "\n",
        "    scheduler.step()"
      ],
      "execution_count": 7,
      "outputs": [
        {
          "output_type": "stream",
          "text": [
            "/usr/local/lib/python3.6/dist-packages/torch/optim/lr_scheduler.py:370: UserWarning: To get the last learning rate computed by the scheduler, please use `get_last_lr()`.\n",
            "  \"please use `get_last_lr()`.\", UserWarning)\n"
          ],
          "name": "stderr"
        },
        {
          "output_type": "stream",
          "text": [
            "| epoch   1 |   200/ 2981 batches | lr 5.00 | ms/batch 18.25 | loss  7.99 | ppl  2942.36\n",
            "| epoch   1 |   400/ 2981 batches | lr 5.00 | ms/batch 16.97 | loss  6.78 | ppl   883.25\n",
            "| epoch   1 |   600/ 2981 batches | lr 5.00 | ms/batch 16.95 | loss  6.35 | ppl   574.49\n",
            "| epoch   1 |   800/ 2981 batches | lr 5.00 | ms/batch 17.03 | loss  6.23 | ppl   505.27\n",
            "| epoch   1 |  1000/ 2981 batches | lr 5.00 | ms/batch 17.07 | loss  6.12 | ppl   453.21\n",
            "| epoch   1 |  1200/ 2981 batches | lr 5.00 | ms/batch 17.07 | loss  6.08 | ppl   437.55\n",
            "| epoch   1 |  1400/ 2981 batches | lr 5.00 | ms/batch 17.15 | loss  6.04 | ppl   419.66\n",
            "| epoch   1 |  1600/ 2981 batches | lr 5.00 | ms/batch 17.24 | loss  6.05 | ppl   422.77\n",
            "| epoch   1 |  1800/ 2981 batches | lr 5.00 | ms/batch 17.22 | loss  5.96 | ppl   388.10\n",
            "| epoch   1 |  2000/ 2981 batches | lr 5.00 | ms/batch 17.32 | loss  5.96 | ppl   387.59\n",
            "| epoch   1 |  2200/ 2981 batches | lr 5.00 | ms/batch 17.37 | loss  5.86 | ppl   349.56\n",
            "| epoch   1 |  2400/ 2981 batches | lr 5.00 | ms/batch 17.40 | loss  5.89 | ppl   362.82\n",
            "| epoch   1 |  2600/ 2981 batches | lr 5.00 | ms/batch 17.44 | loss  5.89 | ppl   362.26\n",
            "| epoch   1 |  2800/ 2981 batches | lr 5.00 | ms/batch 17.56 | loss  5.80 | ppl   329.00\n",
            "-----------------------------------------------------------------------------------------\n",
            "| end of epoch   1 | time: 54.14s | valid loss  5.72 | valid ppl   306.38\n",
            "-----------------------------------------------------------------------------------------\n",
            "| epoch   2 |   200/ 2981 batches | lr 4.51 | ms/batch 17.79 | loss  5.80 | ppl   329.25\n",
            "| epoch   2 |   400/ 2981 batches | lr 4.51 | ms/batch 17.62 | loss  5.77 | ppl   320.91\n",
            "| epoch   2 |   600/ 2981 batches | lr 4.51 | ms/batch 17.56 | loss  5.60 | ppl   270.53\n",
            "| epoch   2 |   800/ 2981 batches | lr 4.51 | ms/batch 17.52 | loss  5.64 | ppl   280.51\n",
            "| epoch   2 |  1000/ 2981 batches | lr 4.51 | ms/batch 17.43 | loss  5.59 | ppl   268.38\n",
            "| epoch   2 |  1200/ 2981 batches | lr 4.51 | ms/batch 17.41 | loss  5.62 | ppl   276.17\n",
            "| epoch   2 |  1400/ 2981 batches | lr 4.51 | ms/batch 17.41 | loss  5.63 | ppl   279.93\n",
            "| epoch   2 |  1600/ 2981 batches | lr 4.51 | ms/batch 17.34 | loss  5.66 | ppl   286.07\n",
            "| epoch   2 |  1800/ 2981 batches | lr 4.51 | ms/batch 17.36 | loss  5.59 | ppl   268.12\n",
            "| epoch   2 |  2000/ 2981 batches | lr 4.51 | ms/batch 17.38 | loss  5.62 | ppl   274.90\n",
            "| epoch   2 |  2200/ 2981 batches | lr 4.51 | ms/batch 17.29 | loss  5.51 | ppl   246.11\n",
            "| epoch   2 |  2400/ 2981 batches | lr 4.51 | ms/batch 17.28 | loss  5.57 | ppl   263.38\n",
            "| epoch   2 |  2600/ 2981 batches | lr 4.51 | ms/batch 17.33 | loss  5.59 | ppl   267.87\n",
            "| epoch   2 |  2800/ 2981 batches | lr 4.51 | ms/batch 17.29 | loss  5.51 | ppl   247.71\n",
            "-----------------------------------------------------------------------------------------\n",
            "| end of epoch   2 | time: 54.48s | valid loss  5.60 | valid ppl   271.24\n",
            "-----------------------------------------------------------------------------------------\n",
            "| epoch   3 |   200/ 2981 batches | lr 4.29 | ms/batch 17.39 | loss  5.55 | ppl   256.57\n",
            "| epoch   3 |   400/ 2981 batches | lr 4.29 | ms/batch 17.37 | loss  5.56 | ppl   258.88\n",
            "| epoch   3 |   600/ 2981 batches | lr 4.29 | ms/batch 17.38 | loss  5.36 | ppl   211.77\n",
            "| epoch   3 |   800/ 2981 batches | lr 4.29 | ms/batch 17.37 | loss  5.42 | ppl   226.31\n",
            "| epoch   3 |  1000/ 2981 batches | lr 4.29 | ms/batch 17.37 | loss  5.38 | ppl   216.47\n",
            "| epoch   3 |  1200/ 2981 batches | lr 4.29 | ms/batch 17.42 | loss  5.41 | ppl   223.83\n",
            "| epoch   3 |  1400/ 2981 batches | lr 4.29 | ms/batch 17.45 | loss  5.44 | ppl   230.20\n",
            "| epoch   3 |  1600/ 2981 batches | lr 4.29 | ms/batch 17.43 | loss  5.48 | ppl   239.31\n",
            "| epoch   3 |  1800/ 2981 batches | lr 4.29 | ms/batch 17.47 | loss  5.41 | ppl   222.74\n",
            "| epoch   3 |  2000/ 2981 batches | lr 4.29 | ms/batch 17.44 | loss  5.44 | ppl   231.02\n",
            "| epoch   3 |  2200/ 2981 batches | lr 4.29 | ms/batch 17.45 | loss  5.33 | ppl   205.87\n",
            "| epoch   3 |  2400/ 2981 batches | lr 4.29 | ms/batch 17.46 | loss  5.40 | ppl   222.35\n",
            "| epoch   3 |  2600/ 2981 batches | lr 4.29 | ms/batch 17.47 | loss  5.42 | ppl   226.41\n",
            "| epoch   3 |  2800/ 2981 batches | lr 4.29 | ms/batch 17.46 | loss  5.34 | ppl   209.19\n",
            "-----------------------------------------------------------------------------------------\n",
            "| end of epoch   3 | time: 54.50s | valid loss  5.52 | valid ppl   250.32\n",
            "-----------------------------------------------------------------------------------------\n"
          ],
          "name": "stdout"
        }
      ]
    },
    {
      "cell_type": "markdown",
      "metadata": {
        "id": "YpnYd2UALYAS"
      },
      "source": [
        "# Evaluate the model with the test dataset"
      ]
    },
    {
      "cell_type": "code",
      "metadata": {
        "colab": {
          "base_uri": "https://localhost:8080/"
        },
        "id": "TL4kFEP2LcUN",
        "outputId": "bd4d32f0-201e-4fd8-d30d-f465737ae17f"
      },
      "source": [
        "test_loss = evaluate(best_model, test_data)\n",
        "print('=' * 89)\n",
        "print('| End of training | test loss {:5.2f} | test ppl {:8.2f}'.format(\n",
        "    test_loss, math.exp(test_loss)))\n",
        "print('=' * 89)"
      ],
      "execution_count": 8,
      "outputs": [
        {
          "output_type": "stream",
          "text": [
            "=========================================================================================\n",
            "| End of training | test loss  5.42 | test ppl   226.29\n",
            "=========================================================================================\n"
          ],
          "name": "stdout"
        }
      ]
    }
  ]
}