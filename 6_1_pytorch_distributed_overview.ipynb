{
  "nbformat": 4,
  "nbformat_minor": 0,
  "metadata": {
    "colab": {
      "name": "6_1_pytorch_distributed_overview.ipynb",
      "provenance": [],
      "collapsed_sections": [],
      "authorship_tag": "ABX9TyPx3R9GAkSlcwrzbm5H6uXZ",
      "include_colab_link": true
    },
    "kernelspec": {
      "name": "python3",
      "display_name": "Python 3"
    }
  },
  "cells": [
    {
      "cell_type": "markdown",
      "metadata": {
        "id": "view-in-github",
        "colab_type": "text"
      },
      "source": [
        "<a href=\"https://colab.research.google.com/github/chihina/pytorch-tutorial/blob/master/6_1_pytorch_distributed_overview.ipynb\" target=\"_parent\"><img src=\"https://colab.research.google.com/assets/colab-badge.svg\" alt=\"Open In Colab\"/></a>"
      ]
    },
    {
      "cell_type": "markdown",
      "metadata": {
        "id": "7OIudU2yiMuN"
      },
      "source": [
        "#**Tutorial 6-1: PYTORCH DISTRIBUTED OVERVIEW**\r\n",
        "https://pytorch.org/tutorials/beginner/dist_overview.html"
      ]
    },
    {
      "cell_type": "markdown",
      "metadata": {
        "id": "1yCgY51_igOp"
      },
      "source": [
        "# Overview\r\n",
        "\r\n",
        "This tutorial has no codes, but there are a lot of good documents.  \r\n",
        "\r\n",
        "You can access them in the url."
      ]
    }
  ]
}