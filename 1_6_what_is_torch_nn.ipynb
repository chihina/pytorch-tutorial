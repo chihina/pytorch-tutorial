{
  "nbformat": 4,
  "nbformat_minor": 0,
  "metadata": {
    "colab": {
      "name": "1_6_what_is_torch_nn.ipynb",
      "provenance": [],
      "collapsed_sections": [],
      "toc_visible": true,
      "authorship_tag": "ABX9TyNKR8Y1LrSyKiREOLWLa9G+",
      "include_colab_link": true
    },
    "kernelspec": {
      "name": "python3",
      "display_name": "Python 3"
    },
    "accelerator": "GPU"
  },
  "cells": [
    {
      "cell_type": "markdown",
      "metadata": {
        "id": "view-in-github",
        "colab_type": "text"
      },
      "source": [
        "<a href=\"https://colab.research.google.com/github/chihina/pytorch-tutorial/blob/master/1_6_what_is_torch_nn.ipynb\" target=\"_parent\"><img src=\"https://colab.research.google.com/assets/colab-badge.svg\" alt=\"Open In Colab\"/></a>"
      ]
    },
    {
      "cell_type": "markdown",
      "metadata": {
        "id": "aQK9n9WYG3nE"
      },
      "source": [
        "#**Tutorial 1-6: WHAT IS TORCH.NN REALLY?**  \r\n",
        "\r\n",
        "https://pytorch.org/tutorials/beginner/nn_tutorial.html"
      ]
    },
    {
      "cell_type": "markdown",
      "metadata": {
        "id": "Z3RYm56cHg3t"
      },
      "source": [
        "# Overview\r\n",
        "This tutorial's object is to understand torch nn module. "
      ]
    },
    {
      "cell_type": "markdown",
      "metadata": {
        "id": "DAb_7EKpH0zu"
      },
      "source": [
        "# MNIST data setup\r\n"
      ]
    },
    {
      "cell_type": "markdown",
      "metadata": {
        "id": "uzs38DtiIT1H"
      },
      "source": [
        "## Download MNIST data"
      ]
    },
    {
      "cell_type": "code",
      "metadata": {
        "id": "VYzfERfPG-hr"
      },
      "source": [
        "from pathlib import Path\r\n",
        "import requests\r\n",
        "\r\n",
        "DATA_PATH = Path(\"data\")\r\n",
        "PATH = DATA_PATH / \"mnist\"\r\n",
        "\r\n",
        "PATH.mkdir(parents=True, exist_ok=True)\r\n",
        "\r\n",
        "URL = \"https://github.com/pytorch/tutorials/raw/master/_static/\"\r\n",
        "FILENAME = \"mnist.pkl.gz\"\r\n",
        "\r\n",
        "if not (PATH / FILENAME).exists():\r\n",
        "        content = requests.get(URL + FILENAME).content\r\n",
        "        (PATH / FILENAME).open(\"wb\").write(content)\r\n",
        "\r\n",
        "import pickle\r\n",
        "import gzip\r\n",
        "\r\n",
        "with gzip.open((PATH / FILENAME).as_posix(), \"rb\") as f:\r\n",
        "        ((x_train, y_train), (x_valid, y_valid), _) = pickle.load(f, encoding=\"latin-1\")"
      ],
      "execution_count": 2,
      "outputs": []
    },
    {
      "cell_type": "markdown",
      "metadata": {
        "id": "6PPN5eI2IX7w"
      },
      "source": [
        "## Visualize MNIST data"
      ]
    },
    {
      "cell_type": "code",
      "metadata": {
        "colab": {
          "base_uri": "https://localhost:8080/",
          "height": 282
        },
        "id": "SQpCzHDVIbeO",
        "outputId": "6cce0a92-6e42-496a-f5a8-7c4ebf8da8f3"
      },
      "source": [
        "from matplotlib import pyplot\r\n",
        "import numpy as np\r\n",
        "\r\n",
        "pyplot.imshow(x_train[0].reshape((28, 28)), cmap=\"gray\")\r\n",
        "print(x_train.shape)"
      ],
      "execution_count": 3,
      "outputs": [
        {
          "output_type": "stream",
          "text": [
            "(50000, 784)\n"
          ],
          "name": "stdout"
        },
        {
          "output_type": "display_data",
          "data": {
            "image/png": "[encoded data removed]",
            "text/plain": [
              "<Figure size 432x288 with 1 Axes>"
            ]
          },
          "metadata": {
            "tags": [],
            "needs_background": "light"
          }
        }
      ]
    },
    {
      "cell_type": "markdown",
      "metadata": {
        "id": "9nsFEAIxIpXC"
      },
      "source": [
        "## Numpy array to Torch tensor"
      ]
    },
    {
      "cell_type": "code",
      "metadata": {
        "colab": {
          "base_uri": "https://localhost:8080/"
        },
        "id": "ASwUTRmVIpfx",
        "outputId": "1c663654-d22b-45b6-ad03-c6ffe8805ec1"
      },
      "source": [
        "import torch\r\n",
        "\r\n",
        "x_train, y_train, x_valid, y_valid = map(\r\n",
        "    torch.tensor, (x_train, y_train, x_valid, y_valid)\r\n",
        ")\r\n",
        "n, c = x_train.shape\r\n",
        "x_train, x_train.shape, y_train.min(), y_train.max()\r\n",
        "print(x_train, y_train)\r\n",
        "print(x_train.shape)\r\n",
        "print(y_train.min(), y_train.max())"
      ],
      "execution_count": 4,
      "outputs": [
        {
          "output_type": "stream",
          "text": [
            "tensor([[0., 0., 0.,  ..., 0., 0., 0.],\n",
            "        [0., 0., 0.,  ..., 0., 0., 0.],\n",
            "        [0., 0., 0.,  ..., 0., 0., 0.],\n",
            "        ...,\n",
            "        [0., 0., 0.,  ..., 0., 0., 0.],\n",
            "        [0., 0., 0.,  ..., 0., 0., 0.],\n",
            "        [0., 0., 0.,  ..., 0., 0., 0.]]) tensor([5, 0, 4,  ..., 8, 4, 8])\n",
            "torch.Size([50000, 784])\n",
            "tensor(0) tensor(9)\n"
          ],
          "name": "stdout"
        }
      ]
    },
    {
      "cell_type": "markdown",
      "metadata": {
        "id": "GaoorEgzI4D_"
      },
      "source": [
        "# Neural net from scratch (no torch.nn)  \r\n",
        "\r\n",
        "Let’s first create a model using nothing but PyTorch tensor operations. "
      ]
    },
    {
      "cell_type": "markdown",
      "metadata": {
        "id": "JslvHDKvJlVI"
      },
      "source": [
        "## Initialize weights and define functions"
      ]
    },
    {
      "cell_type": "code",
      "metadata": {
        "id": "V8fGfdqNI6GH"
      },
      "source": [
        "import math\r\n",
        "\r\n",
        "weights = torch.randn(784, 10) / math.sqrt(784)\r\n",
        "weights.requires_grad_()\r\n",
        "bias = torch.zeros(10, requires_grad=True)\r\n",
        "\r\n",
        "def log_softmax(x):\r\n",
        "    return x - x.exp().sum(-1).log().unsqueeze(-1)\r\n",
        "\r\n",
        "def model(xb):\r\n",
        "    return log_softmax(xb @ weights + bias)"
      ],
      "execution_count": 5,
      "outputs": []
    },
    {
      "cell_type": "markdown",
      "metadata": {
        "id": "7gaZR2qkJpnx"
      },
      "source": [
        "## forword path"
      ]
    },
    {
      "cell_type": "code",
      "metadata": {
        "colab": {
          "base_uri": "https://localhost:8080/"
        },
        "id": "mIcg_IVbJuVR",
        "outputId": "d90c4214-9936-43e4-b028-17548d2173c9"
      },
      "source": [
        "bs = 64  # batch size\r\n",
        "\r\n",
        "xb = x_train[0:bs]  # a mini-batch from x\r\n",
        "preds = model(xb)  # predictions\r\n",
        "preds[0], preds.shape\r\n",
        "print(preds[0], preds.shape)"
      ],
      "execution_count": 6,
      "outputs": [
        {
          "output_type": "stream",
          "text": [
            "tensor([-2.5959, -2.2890, -1.8565, -2.0695, -2.1266, -2.1919, -2.4065, -3.0839,\n",
            "        -2.2309, -2.6985], grad_fn=<SelectBackward>) torch.Size([64, 10])\n"
          ],
          "name": "stdout"
        }
      ]
    },
    {
      "cell_type": "markdown",
      "metadata": {
        "id": "58Q-CXgeKQ_S"
      },
      "source": [
        "## Define loss function and loss calculate"
      ]
    },
    {
      "cell_type": "code",
      "metadata": {
        "colab": {
          "base_uri": "https://localhost:8080/"
        },
        "id": "wSWZ1_prKMwh",
        "outputId": "8cb7b4d6-6b07-4a5d-ba71-dd0ac5ddbb76"
      },
      "source": [
        "def nll(input, target):\r\n",
        "    return -input[range(target.shape[0]), target].mean()\r\n",
        "\r\n",
        "loss_func = nll\r\n",
        "yb = y_train[0:bs]\r\n",
        "print(loss_func(preds, yb))"
      ],
      "execution_count": 7,
      "outputs": [
        {
          "output_type": "stream",
          "text": [
            "tensor(2.1984, grad_fn=<NegBackward>)\n"
          ],
          "name": "stdout"
        }
      ]
    },
    {
      "cell_type": "markdown",
      "metadata": {
        "id": "WkOK7euHMQBb"
      },
      "source": [
        "## Define accuracy function and accuracy calculate"
      ]
    },
    {
      "cell_type": "code",
      "metadata": {
        "colab": {
          "base_uri": "https://localhost:8080/"
        },
        "id": "Y8DxYHijMPd-",
        "outputId": "9caa3c79-cd7f-4b42-faa6-502adb0bcc00"
      },
      "source": [
        "def accuracy(out, yb):\r\n",
        "    preds = torch.argmax(out, dim=1)\r\n",
        "    return (preds == yb).float().mean()\r\n",
        "\r\n",
        "print(accuracy(preds, yb))"
      ],
      "execution_count": 8,
      "outputs": [
        {
          "output_type": "stream",
          "text": [
            "tensor(0.1406)\n"
          ],
          "name": "stdout"
        }
      ]
    },
    {
      "cell_type": "markdown",
      "metadata": {
        "id": "LZXvCOt8Mhes"
      },
      "source": [
        "## Train and check accuracy\r\n"
      ]
    },
    {
      "cell_type": "code",
      "metadata": {
        "colab": {
          "base_uri": "https://localhost:8080/"
        },
        "id": "oA0anCirMhvb",
        "outputId": "74205b9b-4e2f-48aa-fc99-f6fffdf550e6"
      },
      "source": [
        "lr = 0.5  # learning rate\r\n",
        "epochs = 2  # how many epochs to train for\r\n",
        "\r\n",
        "for epoch in range(epochs):\r\n",
        "    for i in range((n - 1) // bs + 1):\r\n",
        "        start_i = i * bs\r\n",
        "        end_i = start_i + bs\r\n",
        "        xb = x_train[start_i:end_i]\r\n",
        "        yb = y_train[start_i:end_i]\r\n",
        "        pred = model(xb)\r\n",
        "        loss = loss_func(pred, yb)\r\n",
        "\r\n",
        "        loss.backward()\r\n",
        "        with torch.no_grad():\r\n",
        "            weights -= weights.grad * lr\r\n",
        "            bias -= bias.grad * lr\r\n",
        "            weights.grad.zero_()\r\n",
        "            bias.grad.zero_()\r\n",
        "\r\n",
        "print(loss_func(model(xb), yb), accuracy(model(xb), yb))"
      ],
      "execution_count": 9,
      "outputs": [
        {
          "output_type": "stream",
          "text": [
            "tensor(0.0835, grad_fn=<NegBackward>) tensor(1.)\n"
          ],
          "name": "stdout"
        }
      ]
    },
    {
      "cell_type": "markdown",
      "metadata": {
        "id": "XZfwQE86NFm9"
      },
      "source": [
        "# Neural net from scratch (torch.nn)  \r\n",
        "\r\n",
        "Let’s first create a model using torch nn modules."
      ]
    },
    {
      "cell_type": "markdown",
      "metadata": {
        "id": "HeDhjg0-Negc"
      },
      "source": [
        "## Replace loss function"
      ]
    },
    {
      "cell_type": "code",
      "metadata": {
        "colab": {
          "base_uri": "https://localhost:8080/"
        },
        "id": "Hw9_xXXxNjUM",
        "outputId": "6230be5a-3ac9-4c7e-b885-a9d1a45d6b0d"
      },
      "source": [
        "import torch.nn.functional as F\r\n",
        "\r\n",
        "loss_func = F.cross_entropy\r\n",
        "\r\n",
        "def model(xb):\r\n",
        "    return xb @ weights + bias\r\n",
        "  \r\n",
        "print(loss_func(model(xb), yb), accuracy(model(xb), yb))"
      ],
      "execution_count": 10,
      "outputs": [
        {
          "output_type": "stream",
          "text": [
            "tensor(0.0835, grad_fn=<NllLossBackward>) tensor(1.)\n"
          ],
          "name": "stdout"
        }
      ]
    },
    {
      "cell_type": "markdown",
      "metadata": {
        "id": "js_mrBPiNrDG"
      },
      "source": [
        "## Replace model"
      ]
    },
    {
      "cell_type": "code",
      "metadata": {
        "colab": {
          "base_uri": "https://localhost:8080/"
        },
        "id": "7KTImAQQNrNW",
        "outputId": "29e0e877-a7ab-4a17-efb7-0091a2aedbbf"
      },
      "source": [
        "from torch import nn\r\n",
        "\r\n",
        "class Mnist_Logistic(nn.Module):\r\n",
        "    def __init__(self):\r\n",
        "        super().__init__()\r\n",
        "        self.weights = nn.Parameter(torch.randn(784, 10) / math.sqrt(784))\r\n",
        "        self.bias = nn.Parameter(torch.zeros(10))\r\n",
        "\r\n",
        "    def forward(self, xb):\r\n",
        "        return xb @ self.weights + self.bias\r\n",
        "\r\n",
        "model = Mnist_Logistic()\r\n",
        "print(loss_func(model(xb), yb))"
      ],
      "execution_count": 11,
      "outputs": [
        {
          "output_type": "stream",
          "text": [
            "tensor(2.3055, grad_fn=<NllLossBackward>)\n"
          ],
          "name": "stdout"
        }
      ]
    },
    {
      "cell_type": "markdown",
      "metadata": {
        "id": "na_WLkbhOQVT"
      },
      "source": [
        "## Replace weights updating method"
      ]
    },
    {
      "cell_type": "code",
      "metadata": {
        "colab": {
          "base_uri": "https://localhost:8080/"
        },
        "id": "qNya9VdXOVnE",
        "outputId": "8ba016df-742c-46b2-e9b0-fd2be224aafd"
      },
      "source": [
        "# with torch.no_grad():\r\n",
        "#     weights -= weights.grad * lr\r\n",
        "#     bias -= bias.grad * lr\r\n",
        "#     weights.grad.zero_()\r\n",
        "#     bias.grad.zero_()\r\n",
        "\r\n",
        "def fit():\r\n",
        "    for epoch in range(epochs):\r\n",
        "        for i in range((n - 1) // bs + 1):\r\n",
        "            start_i = i * bs\r\n",
        "            end_i = start_i + bs\r\n",
        "            xb = x_train[start_i:end_i]\r\n",
        "            yb = y_train[start_i:end_i]\r\n",
        "            pred = model(xb)\r\n",
        "            loss = loss_func(pred, yb)\r\n",
        "\r\n",
        "            loss.backward()\r\n",
        "            with torch.no_grad():\r\n",
        "                for p in model.parameters():\r\n",
        "                    p -= p.grad * lr\r\n",
        "                model.zero_grad()\r\n",
        "\r\n",
        "fit()\r\n",
        "print(loss_func(model(xb), yb))"
      ],
      "execution_count": 12,
      "outputs": [
        {
          "output_type": "stream",
          "text": [
            "tensor(0.0817, grad_fn=<NllLossBackward>)\n"
          ],
          "name": "stdout"
        }
      ]
    },
    {
      "cell_type": "markdown",
      "metadata": {
        "id": "eBE00sHDO2Et"
      },
      "source": [
        "## Replace network structure"
      ]
    },
    {
      "cell_type": "code",
      "metadata": {
        "colab": {
          "base_uri": "https://localhost:8080/"
        },
        "id": "23FXPW3SO8bG",
        "outputId": "9c7c8492-833e-4772-faba-65e17fdc1828"
      },
      "source": [
        "class Mnist_Logistic(nn.Module):\r\n",
        "    def __init__(self):\r\n",
        "        super().__init__()\r\n",
        "        self.lin = nn.Linear(784, 10)\r\n",
        "\r\n",
        "    def forward(self, xb):\r\n",
        "        return self.lin(xb)\r\n",
        "  \r\n",
        "model = Mnist_Logistic()\r\n",
        "fit()\r\n",
        "print(loss_func(model(xb), yb))"
      ],
      "execution_count": 13,
      "outputs": [
        {
          "output_type": "stream",
          "text": [
            "tensor(0.0798, grad_fn=<NllLossBackward>)\n"
          ],
          "name": "stdout"
        }
      ]
    },
    {
      "cell_type": "markdown",
      "metadata": {
        "id": "MN4XBnoxPKjV"
      },
      "source": [
        "## Replace optimize method"
      ]
    },
    {
      "cell_type": "code",
      "metadata": {
        "colab": {
          "base_uri": "https://localhost:8080/"
        },
        "id": "y0q_daA8PSWF",
        "outputId": "2df6a5c3-7b4a-454b-ee80-70c966797df1"
      },
      "source": [
        "# with torch.no_grad():\r\n",
        "    # for p in model.parameters(): p -= p.grad * lr\r\n",
        "    # model.zero_grad()\r\n",
        "\r\n",
        "from torch import optim\r\n",
        "\r\n",
        "def get_model():\r\n",
        "    model = Mnist_Logistic()\r\n",
        "    return model, optim.SGD(model.parameters(), lr=lr)\r\n",
        "\r\n",
        "model, opt = get_model()\r\n",
        "print(loss_func(model(xb), yb))\r\n",
        "\r\n",
        "for epoch in range(epochs):\r\n",
        "    for i in range((n - 1) // bs + 1):\r\n",
        "        start_i = i * bs\r\n",
        "        end_i = start_i + bs\r\n",
        "        xb = x_train[start_i:end_i]\r\n",
        "        yb = y_train[start_i:end_i]\r\n",
        "        pred = model(xb)\r\n",
        "        loss = loss_func(pred, yb)\r\n",
        "\r\n",
        "        loss.backward()\r\n",
        "        opt.step()\r\n",
        "        opt.zero_grad()\r\n",
        "\r\n",
        "print(loss_func(model(xb), yb))"
      ],
      "execution_count": 14,
      "outputs": [
        {
          "output_type": "stream",
          "text": [
            "tensor(2.3515, grad_fn=<NllLossBackward>)\n",
            "tensor(0.0812, grad_fn=<NllLossBackward>)\n"
          ],
          "name": "stdout"
        }
      ]
    },
    {
      "cell_type": "markdown",
      "metadata": {
        "id": "EtHvg5VzPoaD"
      },
      "source": [
        "## Replace Dataset"
      ]
    },
    {
      "cell_type": "code",
      "metadata": {
        "colab": {
          "base_uri": "https://localhost:8080/"
        },
        "id": "-yQ3JZ-MQHxW",
        "outputId": "d421cf21-2cd8-4d1b-a4e4-d379688a7436"
      },
      "source": [
        "from torch.utils.data import TensorDataset\r\n",
        "from torch.utils.data import DataLoader\r\n",
        "\r\n",
        "train_ds = TensorDataset(x_train, y_train)\r\n",
        "train_dl = DataLoader(train_ds, batch_size=bs)\r\n",
        "model, opt = get_model()\r\n",
        "\r\n",
        "for epoch in range(epochs):\r\n",
        "    for xb, yb in train_dl:\r\n",
        "        pred = model(xb)\r\n",
        "        loss = loss_func(pred, yb)\r\n",
        "\r\n",
        "        loss.backward()\r\n",
        "        opt.step()\r\n",
        "        opt.zero_grad()\r\n",
        "\r\n",
        "print(loss_func(model(xb), yb))"
      ],
      "execution_count": 15,
      "outputs": [
        {
          "output_type": "stream",
          "text": [
            "tensor(0.0805, grad_fn=<NllLossBackward>)\n"
          ],
          "name": "stdout"
        }
      ]
    },
    {
      "cell_type": "markdown",
      "metadata": {
        "id": "aIJCH0RiQ8a0"
      },
      "source": [
        "## Add validation\r\n"
      ]
    },
    {
      "cell_type": "code",
      "metadata": {
        "colab": {
          "base_uri": "https://localhost:8080/"
        },
        "id": "XYxBhF91Q-vM",
        "outputId": "f4afc935-b336-48df-b13c-7ca271911bd7"
      },
      "source": [
        "train_ds = TensorDataset(x_train, y_train)\r\n",
        "train_dl = DataLoader(train_ds, batch_size=bs, shuffle=True)\r\n",
        "\r\n",
        "valid_ds = TensorDataset(x_valid, y_valid)\r\n",
        "valid_dl = DataLoader(valid_ds, batch_size=bs * 2)\r\n",
        "\r\n",
        "model, opt = get_model()\r\n",
        "\r\n",
        "for epoch in range(epochs):\r\n",
        "    model.train()\r\n",
        "    for xb, yb in train_dl:\r\n",
        "        pred = model(xb)\r\n",
        "        loss = loss_func(pred, yb)\r\n",
        "\r\n",
        "        loss.backward()\r\n",
        "        opt.step()\r\n",
        "        opt.zero_grad()\r\n",
        "\r\n",
        "    model.eval()\r\n",
        "    with torch.no_grad():\r\n",
        "        valid_loss = sum(loss_func(model(xb), yb) for xb, yb in valid_dl)\r\n",
        "\r\n",
        "    print(epoch, valid_loss / len(valid_dl))"
      ],
      "execution_count": 16,
      "outputs": [
        {
          "output_type": "stream",
          "text": [
            "0 tensor(0.2967)\n",
            "1 tensor(0.4526)\n"
          ],
          "name": "stdout"
        }
      ]
    },
    {
      "cell_type": "markdown",
      "metadata": {
        "id": "SguXgzKlRZqf"
      },
      "source": [
        "## Ingenuity loss function and get batch data "
      ]
    },
    {
      "cell_type": "code",
      "metadata": {
        "colab": {
          "base_uri": "https://localhost:8080/"
        },
        "id": "-XYDg0qIRZxg",
        "outputId": "579f0475-9698-4fdb-d6ae-4af7ded5cfb2"
      },
      "source": [
        "def loss_batch(model, loss_func, xb, yb, opt=None):\r\n",
        "    loss = loss_func(model(xb), yb)\r\n",
        "\r\n",
        "    if opt is not None:\r\n",
        "        loss.backward()\r\n",
        "        opt.step()\r\n",
        "        opt.zero_grad()\r\n",
        "\r\n",
        "    return loss.item(), len(xb)\r\n",
        "\r\n",
        "import numpy as np\r\n",
        "\r\n",
        "def fit(epochs, model, loss_func, opt, train_dl, valid_dl):\r\n",
        "    for epoch in range(epochs):\r\n",
        "        model.train()\r\n",
        "        for xb, yb in train_dl:\r\n",
        "            loss_batch(model, loss_func, xb, yb, opt)\r\n",
        "\r\n",
        "        model.eval()\r\n",
        "        with torch.no_grad():\r\n",
        "            losses, nums = zip(\r\n",
        "                *[loss_batch(model, loss_func, xb, yb) for xb, yb in valid_dl]\r\n",
        "            )\r\n",
        "        val_loss = np.sum(np.multiply(losses, nums)) / np.sum(nums)\r\n",
        "\r\n",
        "        print(epoch, val_loss)\r\n",
        "\r\n",
        "def get_data(train_ds, valid_ds, bs):\r\n",
        "    return (\r\n",
        "        DataLoader(train_ds, batch_size=bs, shuffle=True),\r\n",
        "        DataLoader(valid_ds, batch_size=bs * 2),\r\n",
        "    )\r\n",
        "\r\n",
        "train_dl, valid_dl = get_data(train_ds, valid_ds, bs)\r\n",
        "model, opt = get_model()\r\n",
        "fit(epochs, model, loss_func, opt, train_dl, valid_dl)"
      ],
      "execution_count": 17,
      "outputs": [
        {
          "output_type": "stream",
          "text": [
            "0 0.40777898954153063\n",
            "1 0.30664607434272767\n"
          ],
          "name": "stdout"
        }
      ]
    },
    {
      "cell_type": "markdown",
      "metadata": {
        "id": "RfSm-PttR3pU"
      },
      "source": [
        "## Switch to CNN"
      ]
    },
    {
      "cell_type": "code",
      "metadata": {
        "colab": {
          "base_uri": "https://localhost:8080/"
        },
        "id": "4eCGOCdvR6P_",
        "outputId": "bceec50b-c791-4b1c-b022-a7e00d237648"
      },
      "source": [
        "class Mnist_CNN(nn.Module):\r\n",
        "    def __init__(self):\r\n",
        "        super().__init__()\r\n",
        "        self.conv1 = nn.Conv2d(1, 16, kernel_size=3, stride=2, padding=1)\r\n",
        "        self.conv2 = nn.Conv2d(16, 16, kernel_size=3, stride=2, padding=1)\r\n",
        "        self.conv3 = nn.Conv2d(16, 10, kernel_size=3, stride=2, padding=1)\r\n",
        "\r\n",
        "    def forward(self, xb):\r\n",
        "        xb = xb.view(-1, 1, 28, 28)\r\n",
        "        xb = F.relu(self.conv1(xb))\r\n",
        "        xb = F.relu(self.conv2(xb))\r\n",
        "        xb = F.relu(self.conv3(xb))\r\n",
        "        xb = F.avg_pool2d(xb, 4)\r\n",
        "        return xb.view(-1, xb.size(1))\r\n",
        "\r\n",
        "lr = 0.1\r\n",
        "\r\n",
        "model = Mnist_CNN()\r\n",
        "opt = optim.SGD(model.parameters(), lr=lr, momentum=0.9)\r\n",
        "\r\n",
        "fit(epochs, model, loss_func, opt, train_dl, valid_dl)"
      ],
      "execution_count": 18,
      "outputs": [
        {
          "output_type": "stream",
          "text": [
            "0 0.43019237008094785\n",
            "1 0.26743931033611296\n"
          ],
          "name": "stdout"
        }
      ]
    },
    {
      "cell_type": "markdown",
      "metadata": {
        "id": "yGX4EBg5SAe5"
      },
      "source": [
        "## nn.Sequential"
      ]
    },
    {
      "cell_type": "code",
      "metadata": {
        "colab": {
          "base_uri": "https://localhost:8080/"
        },
        "id": "fzV4pbbESEmx",
        "outputId": "b86d42a0-14b9-4480-d988-d2c9c3a23714"
      },
      "source": [
        "class Lambda(nn.Module):\r\n",
        "    def __init__(self, func):\r\n",
        "        super().__init__()\r\n",
        "        self.func = func\r\n",
        "\r\n",
        "    def forward(self, x):\r\n",
        "        return self.func(x)\r\n",
        "\r\n",
        "\r\n",
        "def preprocess(x):\r\n",
        "    return x.view(-1, 1, 28, 28)\r\n",
        "\r\n",
        "model = nn.Sequential(\r\n",
        "    Lambda(preprocess),\r\n",
        "    nn.Conv2d(1, 16, kernel_size=3, stride=2, padding=1),\r\n",
        "    nn.ReLU(),\r\n",
        "    nn.Conv2d(16, 16, kernel_size=3, stride=2, padding=1),\r\n",
        "    nn.ReLU(),\r\n",
        "    nn.Conv2d(16, 10, kernel_size=3, stride=2, padding=1),\r\n",
        "    nn.ReLU(),\r\n",
        "    nn.AvgPool2d(4),\r\n",
        "    Lambda(lambda x: x.view(x.size(0), -1)),\r\n",
        ")\r\n",
        "\r\n",
        "opt = optim.SGD(model.parameters(), lr=lr, momentum=0.9)\r\n",
        "\r\n",
        "fit(epochs, model, loss_func, opt, train_dl, valid_dl)"
      ],
      "execution_count": 19,
      "outputs": [
        {
          "output_type": "stream",
          "text": [
            "0 0.38413968963623046\n",
            "1 0.3691746317625046\n"
          ],
          "name": "stdout"
        }
      ]
    },
    {
      "cell_type": "markdown",
      "metadata": {
        "id": "A4AT_REbXE3-"
      },
      "source": [
        "## Wrapping DataLoader"
      ]
    },
    {
      "cell_type": "code",
      "metadata": {
        "colab": {
          "base_uri": "https://localhost:8080/"
        },
        "id": "4mTmroSOXHrW",
        "outputId": "ec6d549f-c9e8-4a6e-e76a-5085b618bdf3"
      },
      "source": [
        "def preprocess(x, y):\r\n",
        "    return x.view(-1, 1, 28, 28), y\r\n",
        "\r\n",
        "\r\n",
        "class WrappedDataLoader:\r\n",
        "    def __init__(self, dl, func):\r\n",
        "        self.dl = dl\r\n",
        "        self.func = func\r\n",
        "\r\n",
        "    def __len__(self):\r\n",
        "        return len(self.dl)\r\n",
        "\r\n",
        "    def __iter__(self):\r\n",
        "        batches = iter(self.dl)\r\n",
        "        for b in batches:\r\n",
        "            yield (self.func(*b))\r\n",
        "\r\n",
        "train_dl, valid_dl = get_data(train_ds, valid_ds, bs)\r\n",
        "train_dl = WrappedDataLoader(train_dl, preprocess)\r\n",
        "valid_dl = WrappedDataLoader(valid_dl, preprocess)\r\n",
        "\r\n",
        "model = nn.Sequential(\r\n",
        "    nn.Conv2d(1, 16, kernel_size=3, stride=2, padding=1),\r\n",
        "    nn.ReLU(),\r\n",
        "    nn.Conv2d(16, 16, kernel_size=3, stride=2, padding=1),\r\n",
        "    nn.ReLU(),\r\n",
        "    nn.Conv2d(16, 10, kernel_size=3, stride=2, padding=1),\r\n",
        "    nn.ReLU(),\r\n",
        "    nn.AdaptiveAvgPool2d(1),\r\n",
        "    Lambda(lambda x: x.view(x.size(0), -1)),\r\n",
        ")\r\n",
        "\r\n",
        "opt = optim.SGD(model.parameters(), lr=lr, momentum=0.9)\r\n",
        "fit(epochs, model, loss_func, opt, train_dl, valid_dl)"
      ],
      "execution_count": 20,
      "outputs": [
        {
          "output_type": "stream",
          "text": [
            "0 0.33815653438568116\n",
            "1 0.27624753241539\n"
          ],
          "name": "stdout"
        }
      ]
    },
    {
      "cell_type": "markdown",
      "metadata": {
        "id": "rgiXx_J7X9ym"
      },
      "source": [
        "## Using your GPU"
      ]
    },
    {
      "cell_type": "code",
      "metadata": {
        "colab": {
          "base_uri": "https://localhost:8080/"
        },
        "id": "YzZ_fheHYAER",
        "outputId": "8b1be01b-a5ea-4670-d723-6ffd933dafd5"
      },
      "source": [
        "print(torch.cuda.is_available())\r\n",
        "dev = torch.device(\r\n",
        "    \"cuda\") if torch.cuda.is_available() else torch.device(\"cpu\")\r\n",
        "\r\n",
        "def preprocess(x, y):\r\n",
        "    return x.view(-1, 1, 28, 28).to(dev), y.to(dev)\r\n",
        "\r\n",
        "\r\n",
        "train_dl, valid_dl = get_data(train_ds, valid_ds, bs)\r\n",
        "train_dl = WrappedDataLoader(train_dl, preprocess)\r\n",
        "valid_dl = WrappedDataLoader(valid_dl, preprocess)\r\n",
        "model.to(dev)\r\n",
        "opt = optim.SGD(model.parameters(), lr=lr, momentum=0.9)\r\n",
        "fit(epochs, model, loss_func, opt, train_dl, valid_dl)\r\n"
      ],
      "execution_count": 21,
      "outputs": [
        {
          "output_type": "stream",
          "text": [
            "True\n",
            "0 0.20343865908384323\n",
            "1 0.1886150959968567\n"
          ],
          "name": "stdout"
        }
      ]
    }
  ]
}