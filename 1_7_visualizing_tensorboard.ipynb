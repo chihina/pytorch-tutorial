{
  "nbformat": 4,
  "nbformat_minor": 0,
  "metadata": {
    "colab": {
      "name": "1_7_visualizing_tensorboard.ipynb",
      "provenance": [],
      "collapsed_sections": [],
      "authorship_tag": "ABX9TyMhsIcrwtErkh8XBNeKrzNH",
      "include_colab_link": true
    },
    "kernelspec": {
      "name": "python3",
      "display_name": "Python 3"
    },
    "accelerator": "GPU"
  },
  "cells": [
    {
      "cell_type": "markdown",
      "metadata": {
        "id": "view-in-github",
        "colab_type": "text"
      },
      "source": [
        "<a href=\"https://colab.research.google.com/github/chihina/pytorch-tutorial/blob/master/1_7_visualizing_tensorboard.ipynb\" target=\"_parent\"><img src=\"https://colab.research.google.com/assets/colab-badge.svg\" alt=\"Open In Colab\"/></a>"
      ]
    },
    {
      "cell_type": "markdown",
      "metadata": {
        "id": "ytBuJ3Hpk8Tu"
      },
      "source": [
        "#**Tutorial 1-7: ISUALIZING MODELS, DATA, AND TRAINING WITH TENSORBOARD**  \r\n",
        "\r\n",
        "https://pytorch.org/tutorials/intermediate/tensorboard_tutorial.html"
      ]
    },
    {
      "cell_type": "markdown",
      "metadata": {
        "id": "7s-7kl4qlN4O"
      },
      "source": [
        "# Overview\r\n",
        "This tutorial's object is to know how to use tensorboard"
      ]
    },
    {
      "cell_type": "markdown",
      "metadata": {
        "id": "cdKAp-xnlKKm"
      },
      "source": [
        "# Prepare CIFAR-10 tutorial code "
      ]
    },
    {
      "cell_type": "code",
      "metadata": {
        "id": "7Sa-dOT_lCP-"
      },
      "source": [
        "# imports\r\n",
        "import matplotlib.pyplot as plt\r\n",
        "import numpy as np\r\n",
        "\r\n",
        "import torch\r\n",
        "import torchvision\r\n",
        "import torchvision.transforms as transforms\r\n",
        "\r\n",
        "import torch.nn as nn\r\n",
        "import torch.nn.functional as F\r\n",
        "import torch.optim as optim\r\n",
        "\r\n",
        "# transforms\r\n",
        "transform = transforms.Compose(\r\n",
        "    [transforms.ToTensor(),\r\n",
        "    transforms.Normalize((0.5,), (0.5,))])\r\n",
        "\r\n",
        "# datasets\r\n",
        "trainset = torchvision.datasets.FashionMNIST('./data',\r\n",
        "    download=True,\r\n",
        "    train=True,\r\n",
        "    transform=transform)\r\n",
        "testset = torchvision.datasets.FashionMNIST('./data',\r\n",
        "    download=True,\r\n",
        "    train=False,\r\n",
        "    transform=transform)\r\n",
        "\r\n",
        "# dataloaders\r\n",
        "trainloader = torch.utils.data.DataLoader(trainset, batch_size=4,\r\n",
        "                                        shuffle=True, num_workers=2)\r\n",
        "\r\n",
        "\r\n",
        "testloader = torch.utils.data.DataLoader(testset, batch_size=4,\r\n",
        "                                        shuffle=False, num_workers=2)\r\n",
        "\r\n",
        "# constant for classes\r\n",
        "classes = ('T-shirt/top', 'Trouser', 'Pullover', 'Dress', 'Coat',\r\n",
        "        'Sandal', 'Shirt', 'Sneaker', 'Bag', 'Ankle Boot')\r\n",
        "\r\n",
        "# helper function to show an image\r\n",
        "# (used in the `plot_classes_preds` function below)\r\n",
        "def matplotlib_imshow(img, one_channel=False):\r\n",
        "    if one_channel:\r\n",
        "        img = img.mean(dim=0)\r\n",
        "    img = img / 2 + 0.5     # unnormalize\r\n",
        "    npimg = img.numpy()\r\n",
        "    if one_channel:\r\n",
        "        plt.imshow(npimg, cmap=\"Greys\")\r\n",
        "    else:\r\n",
        "        plt.imshow(np.transpose(npimg, (1, 2, 0)))"
      ],
      "execution_count": null,
      "outputs": []
    },
    {
      "cell_type": "code",
      "metadata": {
        "id": "8PCdvkzRlg-v"
      },
      "source": [
        "class Net(nn.Module):\r\n",
        "    def __init__(self):\r\n",
        "        super(Net, self).__init__()\r\n",
        "        self.conv1 = nn.Conv2d(1, 6, 5)\r\n",
        "        self.pool = nn.MaxPool2d(2, 2)\r\n",
        "        self.conv2 = nn.Conv2d(6, 16, 5)\r\n",
        "        self.fc1 = nn.Linear(16 * 4 * 4, 120)\r\n",
        "        self.fc2 = nn.Linear(120, 84)\r\n",
        "        self.fc3 = nn.Linear(84, 10)\r\n",
        "\r\n",
        "    def forward(self, x):\r\n",
        "        x = self.pool(F.relu(self.conv1(x)))\r\n",
        "        x = self.pool(F.relu(self.conv2(x)))\r\n",
        "        x = x.view(-1, 16 * 4 * 4)\r\n",
        "        x = F.relu(self.fc1(x))\r\n",
        "        x = F.relu(self.fc2(x))\r\n",
        "        x = self.fc3(x)\r\n",
        "        return x\r\n",
        "\r\n",
        "\r\n",
        "net = Net()\r\n",
        "criterion = nn.CrossEntropyLoss()\r\n",
        "optimizer = optim.SGD(net.parameters(), lr=0.001, momentum=0.9)"
      ],
      "execution_count": null,
      "outputs": []
    },
    {
      "cell_type": "markdown",
      "metadata": {
        "id": "4M9AX71olyIY"
      },
      "source": [
        "## 1. Tensorboard setup"
      ]
    },
    {
      "cell_type": "code",
      "metadata": {
        "id": "c0mD8fVHl0ZP"
      },
      "source": [
        "from torch.utils.tensorboard import SummaryWriter\r\n",
        "\r\n",
        "# default `log_dir` is \"runs\" - we'll be more specific here\r\n",
        "writer = SummaryWriter('runs/fashion_mnist_experiment_1')"
      ],
      "execution_count": null,
      "outputs": []
    },
    {
      "cell_type": "markdown",
      "metadata": {
        "id": "g9qlKeN6l5j5"
      },
      "source": [
        "## 2. Writing to TensorBoard"
      ]
    },
    {
      "cell_type": "code",
      "metadata": {
        "id": "JroAVtPTl-pO"
      },
      "source": [
        "# get some random training images\r\n",
        "dataiter = iter(trainloader)\r\n",
        "images, labels = dataiter.next()\r\n",
        "\r\n",
        "# create grid of images\r\n",
        "img_grid = torchvision.utils.make_grid(images)\r\n",
        "\r\n",
        "# show images\r\n",
        "matplotlib_imshow(img_grid, one_channel=True)\r\n",
        "\r\n",
        "# write to tensorboard\r\n",
        "writer.add_image('four_fashion_mnist_images', img_grid)"
      ],
      "execution_count": null,
      "outputs": []
    },
    {
      "cell_type": "markdown",
      "metadata": {
        "id": "nk3qj6uYmQ1A"
      },
      "source": [
        "## 3. Run tensorboard in google colaboratory"
      ]
    },
    {
      "cell_type": "code",
      "metadata": {
        "id": "UZCnEa1NmvOW"
      },
      "source": [
        "from __future__ import absolute_import, division, print_function, unicode_literals\r\n",
        "\r\n",
        "try:\r\n",
        "  %tensorflow_version 2.x\r\n",
        "except Exception:\r\n",
        "  print(\"Error occurred\")\r\n",
        "  pass\r\n",
        "\r\n",
        "%load_ext tensorboard"
      ],
      "execution_count": null,
      "outputs": []
    },
    {
      "cell_type": "code",
      "metadata": {
        "id": "xWFy31LkoIrn"
      },
      "source": [
        "%tensorboard --logdir runs/"
      ],
      "execution_count": null,
      "outputs": []
    },
    {
      "cell_type": "markdown",
      "metadata": {
        "id": "PG30PZDUp1RY"
      },
      "source": [
        "## 4. Inspect the model using TensorBoard"
      ]
    },
    {
      "cell_type": "code",
      "metadata": {
        "id": "9ONpAr_ep7Ju"
      },
      "source": [
        "writer.add_graph(net, images)\r\n",
        "writer.close()"
      ],
      "execution_count": null,
      "outputs": []
    },
    {
      "cell_type": "code",
      "metadata": {
        "id": "V-S2E3qsqCbW"
      },
      "source": [
        "!kill 523\r\n",
        "%tensorboard --logdir runs/"
      ],
      "execution_count": null,
      "outputs": []
    },
    {
      "cell_type": "markdown",
      "metadata": {
        "id": "X7nf1db3qoCw"
      },
      "source": [
        "## 5. Adding a \"Projector\" to TensorBoard"
      ]
    },
    {
      "cell_type": "code",
      "metadata": {
        "id": "B06RfSykq1UL"
      },
      "source": [
        "import tensorflow as tf\r\n",
        "import tensorboard as tb\r\n",
        "tf.io.gfile = tb.compat.tensorflow_stub.io.gfile\r\n",
        "\r\n",
        "# helper function\r\n",
        "def select_n_random(data, labels, n=100):\r\n",
        "    '''\r\n",
        "    Selects n random datapoints and their corresponding labels from a dataset\r\n",
        "    '''\r\n",
        "    assert len(data) == len(labels)\r\n",
        "\r\n",
        "    perm = torch.randperm(len(data))\r\n",
        "    return data[perm][:n], labels[perm][:n]\r\n",
        "\r\n",
        "# select random images and their target indices\r\n",
        "images, labels = select_n_random(trainset.data, trainset.targets)\r\n",
        "\r\n",
        "# get the class labels for each image\r\n",
        "class_labels = [classes[lab] for lab in labels]\r\n",
        "\r\n",
        "# log embeddings\r\n",
        "features = images.view(-1, 28 * 28)\r\n",
        "writer.add_embedding(features,\r\n",
        "                    metadata=class_labels,\r\n",
        "                    label_img=images.unsqueeze(1))\r\n",
        "writer.close()"
      ],
      "execution_count": null,
      "outputs": []
    },
    {
      "cell_type": "markdown",
      "metadata": {
        "id": "cXh3izDTui9f"
      },
      "source": [
        "## 6. Tracking model training with TensorBoard"
      ]
    },
    {
      "cell_type": "code",
      "metadata": {
        "id": "EsALc6W1umFe"
      },
      "source": [
        "# helper functions\r\n",
        "\r\n",
        "def images_to_probs(net, images):\r\n",
        "    '''\r\n",
        "    Generates predictions and corresponding probabilities from a trained\r\n",
        "    network and a list of images\r\n",
        "    '''\r\n",
        "    output = net(images)\r\n",
        "    # convert output probabilities to predicted class\r\n",
        "    _, preds_tensor = torch.max(output, 1)\r\n",
        "    preds = np.squeeze(preds_tensor.numpy())\r\n",
        "    return preds, [F.softmax(el, dim=0)[i].item() for i, el in zip(preds, output)]\r\n",
        "\r\n",
        "\r\n",
        "def plot_classes_preds(net, images, labels):\r\n",
        "    '''\r\n",
        "    Generates matplotlib Figure using a trained network, along with images\r\n",
        "    and labels from a batch, that shows the network's top prediction along\r\n",
        "    with its probability, alongside the actual label, coloring this\r\n",
        "    information based on whether the prediction was correct or not.\r\n",
        "    Uses the \"images_to_probs\" function.\r\n",
        "    '''\r\n",
        "    preds, probs = images_to_probs(net, images)\r\n",
        "    # plot the images in the batch, along with predicted and true labels\r\n",
        "    fig = plt.figure(figsize=(12, 48))\r\n",
        "    for idx in np.arange(4):\r\n",
        "        ax = fig.add_subplot(1, 4, idx+1, xticks=[], yticks=[])\r\n",
        "        matplotlib_imshow(images[idx], one_channel=True)\r\n",
        "        ax.set_title(\"{0}, {1:.1f}%\\n(label: {2})\".format(\r\n",
        "            classes[preds[idx]],\r\n",
        "            probs[idx] * 100.0,\r\n",
        "            classes[labels[idx]]),\r\n",
        "                    color=(\"green\" if preds[idx]==labels[idx].item() else \"red\"))\r\n",
        "    return fig"
      ],
      "execution_count": null,
      "outputs": []
    },
    {
      "cell_type": "code",
      "metadata": {
        "id": "yJraArZOuohQ"
      },
      "source": [
        "running_loss = 0.0\r\n",
        "for epoch in range(1):  # loop over the dataset multiple times\r\n",
        "\r\n",
        "    for i, data in enumerate(trainloader, 0):\r\n",
        "\r\n",
        "        # get the inputs; data is a list of [inputs, labels]\r\n",
        "        inputs, labels = data\r\n",
        "\r\n",
        "        # zero the parameter gradients\r\n",
        "        optimizer.zero_grad()\r\n",
        "\r\n",
        "        # forward + backward + optimize\r\n",
        "        outputs = net(inputs)\r\n",
        "        loss = criterion(outputs, labels)\r\n",
        "        loss.backward()\r\n",
        "        optimizer.step()\r\n",
        "\r\n",
        "        running_loss += loss.item()\r\n",
        "        if i % 1000 == 999:    # every 1000 mini-batches...\r\n",
        "\r\n",
        "            # ...log the running loss\r\n",
        "            writer.add_scalar('training loss',\r\n",
        "                            running_loss / 1000,\r\n",
        "                            epoch * len(trainloader) + i)\r\n",
        "\r\n",
        "            # ...log a Matplotlib Figure showing the model's predictions on a\r\n",
        "            # random mini-batch\r\n",
        "            writer.add_figure('predictions vs. actuals',\r\n",
        "                            plot_classes_preds(net, inputs, labels),\r\n",
        "                            global_step=epoch * len(trainloader) + i)\r\n",
        "            running_loss = 0.0\r\n",
        "print('Finished Training')"
      ],
      "execution_count": null,
      "outputs": []
    },
    {
      "cell_type": "code",
      "metadata": {
        "id": "BI8yPj8JuwhB"
      },
      "source": [
        "!kill 523\r\n",
        "%tensorboard --logdir runs/"
      ],
      "execution_count": null,
      "outputs": []
    },
    {
      "cell_type": "markdown",
      "metadata": {
        "id": "oZbGK1ebvG4p"
      },
      "source": [
        "## 7. Assessing trained models with TensorBoard"
      ]
    },
    {
      "cell_type": "code",
      "metadata": {
        "id": "hfzbnRnHvSdq"
      },
      "source": [
        "# 1. gets the probability predictions in a test_size x num_classes Tensor\r\n",
        "# 2. gets the preds in a test_size Tensor\r\n",
        "# takes ~10 seconds to run\r\n",
        "class_probs = []\r\n",
        "class_preds = []\r\n",
        "with torch.no_grad():\r\n",
        "    for data in testloader:\r\n",
        "        images, labels = data\r\n",
        "        output = net(images)\r\n",
        "        class_probs_batch = [F.softmax(el, dim=0) for el in output]\r\n",
        "        _, class_preds_batch = torch.max(output, 1)\r\n",
        "\r\n",
        "        class_probs.append(class_probs_batch)\r\n",
        "        class_preds.append(class_preds_batch)\r\n",
        "\r\n",
        "test_probs = torch.cat([torch.stack(batch) for batch in class_probs])\r\n",
        "test_preds = torch.cat(class_preds)\r\n",
        "\r\n",
        "# helper function\r\n",
        "def add_pr_curve_tensorboard(class_index, test_probs, test_preds, global_step=0):\r\n",
        "    '''\r\n",
        "    Takes in a \"class_index\" from 0 to 9 and plots the corresponding\r\n",
        "    precision-recall curve\r\n",
        "    '''\r\n",
        "    tensorboard_preds = test_preds == class_index\r\n",
        "    tensorboard_probs = test_probs[:, class_index]\r\n",
        "\r\n",
        "    writer.add_pr_curve(classes[class_index],\r\n",
        "                        tensorboard_preds,\r\n",
        "                        tensorboard_probs,\r\n",
        "                        global_step=global_step)\r\n",
        "    writer.close()\r\n",
        "\r\n",
        "# plot all the pr curves\r\n",
        "for i in range(len(classes)):\r\n",
        "    add_pr_curve_tensorboard(i, test_probs, test_preds)"
      ],
      "execution_count": null,
      "outputs": []
    },
    {
      "cell_type": "code",
      "metadata": {
        "id": "bsiet9jqv23R"
      },
      "source": [
        "!kill 523\r\n",
        "%tensorboard --logdir runs/"
      ],
      "execution_count": null,
      "outputs": []
    }
  ]
}