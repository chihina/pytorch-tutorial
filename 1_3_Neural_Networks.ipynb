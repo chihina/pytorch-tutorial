{
  "nbformat": 4,
  "nbformat_minor": 0,
  "metadata": {
    "colab": {
      "name": "1_3_Neural_Networks.ipynb",
      "provenance": [],
      "collapsed_sections": [],
      "authorship_tag": "ABX9TyMd8vnTjw3rkjw92Nt0LlYO",
      "include_colab_link": true
    },
    "kernelspec": {
      "name": "python3",
      "display_name": "Python 3"
    }
  },
  "cells": [
    {
      "cell_type": "markdown",
      "metadata": {
        "id": "view-in-github",
        "colab_type": "text"
      },
      "source": [
        "<a href=\"https://colab.research.google.com/github/chihina/pytorch-tutorial/blob/master/1_3_Neural_Networks.ipynb\" target=\"_parent\"><img src=\"https://colab.research.google.com/assets/colab-badge.svg\" alt=\"Open In Colab\"/></a>"
      ]
    },
    {
      "cell_type": "markdown",
      "metadata": {
        "id": "OYdAG1ZDeEUj"
      },
      "source": [
        "#**Tutorial 1-3: NEURAL NETWORKS**  \r\n",
        "ニューラルネットワークについて  \r\n",
        "https://pytorch.org/tutorials/beginner/blitz/neural_networks_tutorial.html#sphx-glr-beginner-blitz-neural-networks-tutorial-py"
      ]
    },
    {
      "cell_type": "markdown",
      "metadata": {
        "id": "Dsh7ttsNeqgD"
      },
      "source": [
        "# Define the network"
      ]
    },
    {
      "cell_type": "code",
      "metadata": {
        "colab": {
          "base_uri": "https://localhost:8080/"
        },
        "id": "95QaBB3WeILk",
        "outputId": "f362cbd0-3aee-4c8e-8ec3-ff7d2610ad6d"
      },
      "source": [
        "import torch\r\n",
        "import torch.nn as nn\r\n",
        "import torch.nn.functional as F\r\n",
        "\r\n",
        "\r\n",
        "class Net(nn.Module):\r\n",
        "\r\n",
        "    def __init__(self):\r\n",
        "        super(Net, self).__init__()\r\n",
        "        # 1 input image channel, 6 output channels, 3x3 square convolution\r\n",
        "        # kernel\r\n",
        "        self.conv1 = nn.Conv2d(1, 6, 3)\r\n",
        "        self.conv2 = nn.Conv2d(6, 16, 3)\r\n",
        "        # an affine operation: y = Wx + b\r\n",
        "        self.fc1 = nn.Linear(16 * 6 * 6, 120)  # 6*6 from image dimension\r\n",
        "        self.fc2 = nn.Linear(120, 84)\r\n",
        "        self.fc3 = nn.Linear(84, 10)\r\n",
        "\r\n",
        "    def forward(self, x):\r\n",
        "        # Max pooling over a (2, 2) window\r\n",
        "        x = F.max_pool2d(F.relu(self.conv1(x)), (2, 2))\r\n",
        "        # If the size is a square you can only specify a single number\r\n",
        "        x = F.max_pool2d(F.relu(self.conv2(x)), 2)\r\n",
        "        x = x.view(-1, self.num_flat_features(x))\r\n",
        "        x = F.relu(self.fc1(x))\r\n",
        "        x = F.relu(self.fc2(x))\r\n",
        "        x = self.fc3(x)\r\n",
        "        return x\r\n",
        "\r\n",
        "    def num_flat_features(self, x):\r\n",
        "        size = x.size()[1:]  # all dimensions except the batch dimension\r\n",
        "        num_features = 1\r\n",
        "        for s in size:\r\n",
        "            num_features *= s\r\n",
        "        return num_features\r\n",
        "\r\n",
        "net = Net()\r\n",
        "print(net)"
      ],
      "execution_count": 10,
      "outputs": [
        {
          "output_type": "stream",
          "text": [
            "Net(\n",
            "  (conv1): Conv2d(1, 6, kernel_size=(3, 3), stride=(1, 1))\n",
            "  (conv2): Conv2d(6, 16, kernel_size=(3, 3), stride=(1, 1))\n",
            "  (fc1): Linear(in_features=576, out_features=120, bias=True)\n",
            "  (fc2): Linear(in_features=120, out_features=84, bias=True)\n",
            "  (fc3): Linear(in_features=84, out_features=10, bias=True)\n",
            ")\n"
          ],
          "name": "stdout"
        }
      ]
    },
    {
      "cell_type": "code",
      "metadata": {
        "colab": {
          "base_uri": "https://localhost:8080/"
        },
        "id": "J0prHmHZgOke",
        "outputId": "30b485b9-ba98-4279-ce87-165ee9e43df3"
      },
      "source": [
        "# parameter size\r\n",
        "params = list(net.parameters())\r\n",
        "print(len(params))\r\n",
        "print(params[0].size())  # conv1's .weight\r\n",
        "\r\n",
        "# try 32*32 input\r\n",
        "input = torch.randn(1, 1, 32, 32)\r\n",
        "out = net(input)\r\n",
        "print(out)\r\n",
        "\r\n",
        "# Zero the gradient buffers of all parameters and backprops with random gradients\r\n",
        "net.zero_grad()\r\n",
        "out.backward(torch.randn(1, 10))"
      ],
      "execution_count": 11,
      "outputs": [
        {
          "output_type": "stream",
          "text": [
            "10\n",
            "torch.Size([6, 1, 3, 3])\n",
            "tensor([[ 0.0964, -0.1150,  0.0709,  0.0506, -0.0400, -0.1108, -0.0208, -0.1155,\n",
            "         -0.0453, -0.0611]], grad_fn=<AddmmBackward>)\n"
          ],
          "name": "stdout"
        }
      ]
    },
    {
      "cell_type": "markdown",
      "metadata": {
        "id": "qIQSIW7IhJkn"
      },
      "source": [
        "# Loss function"
      ]
    },
    {
      "cell_type": "code",
      "metadata": {
        "colab": {
          "base_uri": "https://localhost:8080/"
        },
        "id": "HDT9ZvAahLrf",
        "outputId": "20323034-3a77-4f64-a425-bc43124677b1"
      },
      "source": [
        "output = net(input)\r\n",
        "target = torch.randn(10)  # a dummy target, for example\r\n",
        "target = target.view(1, -1)  # make it the same shape as output\r\n",
        "criterion = nn.MSELoss()\r\n",
        "\r\n",
        "loss = criterion(output, target)\r\n",
        "print(loss)\r\n",
        "print(loss.grad_fn)  # MSELoss\r\n",
        "print(loss.grad_fn.next_functions[0][0])  # Linear\r\n",
        "print(loss.grad_fn.next_functions[0][0].next_functions[0][0])  # ReLU"
      ],
      "execution_count": 12,
      "outputs": [
        {
          "output_type": "stream",
          "text": [
            "tensor(0.8952, grad_fn=<MseLossBackward>)\n",
            "<MseLossBackward object at 0x7fbf0b0ff748>\n",
            "<AddmmBackward object at 0x7fbf0b0ffc88>\n",
            "<AccumulateGrad object at 0x7fbf0b0ff748>\n"
          ],
          "name": "stdout"
        }
      ]
    },
    {
      "cell_type": "markdown",
      "metadata": {
        "id": "iH7RuScMhkuw"
      },
      "source": [
        "# Backprop"
      ]
    },
    {
      "cell_type": "code",
      "metadata": {
        "colab": {
          "base_uri": "https://localhost:8080/"
        },
        "id": "LQXshn2FhoGA",
        "outputId": "9353b133-76eb-4182-9630-6c77b30a27e8"
      },
      "source": [
        "net.zero_grad()     # zeroes the gradient buffers of all parameters\r\n",
        "\r\n",
        "print('conv1.bias.grad before backward')\r\n",
        "print(net.conv1.bias.grad)\r\n",
        "\r\n",
        "loss.backward()\r\n",
        "\r\n",
        "print('conv1.bias.grad after backward')\r\n",
        "print(net.conv1.bias.grad)"
      ],
      "execution_count": 13,
      "outputs": [
        {
          "output_type": "stream",
          "text": [
            "conv1.bias.grad before backward\n",
            "tensor([0., 0., 0., 0., 0., 0.])\n",
            "conv1.bias.grad after backward\n",
            "tensor([-0.0278, -0.0042, -0.0138, -0.0273,  0.0396,  0.0190])\n"
          ],
          "name": "stdout"
        }
      ]
    },
    {
      "cell_type": "markdown",
      "metadata": {
        "id": "epZ02dKgjgYh"
      },
      "source": [
        "# Update the weights"
      ]
    },
    {
      "cell_type": "code",
      "metadata": {
        "id": "IF9ooyKqjf76"
      },
      "source": [
        "# Simple python code\r\n",
        "# learning_rate = 0.01\r\n",
        "# for f in net.parameters():\r\n",
        "#     f.data.sub_(f.grad.data * learning_rate)\r\n",
        "\r\n",
        "import torch.optim as optim\r\n",
        "\r\n",
        "# create your optimizer\r\n",
        "optimizer = optim.SGD(net.parameters(), lr=0.01)\r\n",
        "\r\n",
        "# in your training loop:\r\n",
        "optimizer.zero_grad()   # zero the gradient buffers\r\n",
        "output = net(input)\r\n",
        "loss = criterion(output, target)\r\n",
        "loss.backward()\r\n",
        "optimizer.step()    # Does the update"
      ],
      "execution_count": 14,
      "outputs": []
    }
  ]
}