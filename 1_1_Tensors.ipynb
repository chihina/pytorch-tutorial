{
  "nbformat": 4,
  "nbformat_minor": 0,
  "metadata": {
    "colab": {
      "name": "1_1_Tensors.ipynb",
      "provenance": [],
      "collapsed_sections": [],
      "authorship_tag": "ABX9TyM+0o6JfhfoIkHptHuR/aS/",
      "include_colab_link": true
    },
    "kernelspec": {
      "name": "python3",
      "display_name": "Python 3"
    },
    "accelerator": "GPU"
  },
  "cells": [
    {
      "cell_type": "markdown",
      "metadata": {
        "id": "view-in-github",
        "colab_type": "text"
      },
      "source": [
        "<a href=\"https://colab.research.google.com/github/chihina/pytorch-tutorial/blob/master/1_1_Tensors.ipynb\" target=\"_parent\"><img src=\"https://colab.research.google.com/assets/colab-badge.svg\" alt=\"Open In Colab\"/></a>"
      ]
    },
    {
      "cell_type": "markdown",
      "metadata": {
        "id": "ge3fhHPtQGO_"
      },
      "source": [
        "#**Tutorial 1-1: Tensors**  \r\n",
        "https://pytorch.org/tutorials/beginner/blitz/tensor_tutorial.html#sphx-glr-beginner-blitz-tensor-tutorial-py"
      ]
    },
    {
      "cell_type": "code",
      "metadata": {
        "id": "58yjaRh8P5_-"
      },
      "source": [
        "import torch\r\n",
        "import numpy as np"
      ],
      "execution_count": 24,
      "outputs": []
    },
    {
      "cell_type": "markdown",
      "metadata": {
        "id": "9pI6Uu8JQ21Y"
      },
      "source": [
        "# Tensor Initialization"
      ]
    },
    {
      "cell_type": "code",
      "metadata": {
        "colab": {
          "base_uri": "https://localhost:8080/"
        },
        "id": "R0iVf-hrQYW3",
        "outputId": "08e35802-8d3e-4501-dabd-baaaf3328679"
      },
      "source": [
        "# Directly from data\r\n",
        "data = [[1, 2],[3, 4]]\r\n",
        "x_data = torch.tensor(data)\r\n",
        "\r\n",
        "# From a NumPy array\r\n",
        "np_array = np.array(data)\r\n",
        "x_np = torch.from_numpy(np_array)\r\n",
        "\r\n",
        "# From another tensor:\r\n",
        "x_ones = torch.ones_like(x_data)\r\n",
        "print(f\"Ones Tensor: \\n {x_ones} \\n\")\r\n",
        "\r\n",
        "x_rand = torch.rand_like(x_data, dtype=torch.float)\r\n",
        "print(f\"Random Tensor: \\n {x_rand} \\n\")\r\n",
        "\r\n",
        "# With random or constant values:\r\n",
        "shape = (2,3,)\r\n",
        "rand_tensor = torch.rand(shape)\r\n",
        "ones_tensor = torch.ones(shape)\r\n",
        "zeros_tensor = torch.zeros(shape)\r\n",
        "\r\n",
        "print(f\"Random Tensor: \\n {rand_tensor} \\n\")\r\n",
        "print(f\"Ones Tensor: \\n {ones_tensor} \\n\")\r\n",
        "print(f\"Zeros Tensor: \\n {zeros_tensor}\")"
      ],
      "execution_count": 25,
      "outputs": [
        {
          "output_type": "stream",
          "text": [
            "Ones Tensor: \n",
            " tensor([[1, 1],\n",
            "        [1, 1]]) \n",
            "\n",
            "Random Tensor: \n",
            " tensor([[0.4480, 0.5122],\n",
            "        [0.1029, 0.3191]]) \n",
            "\n",
            "Random Tensor: \n",
            " tensor([[0.2640, 0.2056, 0.1095],\n",
            "        [0.8321, 0.8676, 0.6142]]) \n",
            "\n",
            "Ones Tensor: \n",
            " tensor([[1., 1., 1.],\n",
            "        [1., 1., 1.]]) \n",
            "\n",
            "Zeros Tensor: \n",
            " tensor([[0., 0., 0.],\n",
            "        [0., 0., 0.]])\n"
          ],
          "name": "stdout"
        }
      ]
    },
    {
      "cell_type": "markdown",
      "metadata": {
        "id": "WfV-DidZQ6lw"
      },
      "source": [
        "# Tensor Attributes"
      ]
    },
    {
      "cell_type": "code",
      "metadata": {
        "colab": {
          "base_uri": "https://localhost:8080/"
        },
        "id": "Zsuk84zbQ-We",
        "outputId": "30f2966f-d0fa-401a-af49-172c9805cfb2"
      },
      "source": [
        "tensor = torch.rand(3,4)\r\n",
        "\r\n",
        "print(f\"Shape of tensor: {tensor.shape}\")\r\n",
        "print(f\"Datatype of tensor: {tensor.dtype}\")\r\n",
        "print(f\"Device tensor is stored on: {tensor.device}\")"
      ],
      "execution_count": 26,
      "outputs": [
        {
          "output_type": "stream",
          "text": [
            "Shape of tensor: torch.Size([3, 4])\n",
            "Datatype of tensor: torch.float32\n",
            "Device tensor is stored on: cpu\n"
          ],
          "name": "stdout"
        }
      ]
    },
    {
      "cell_type": "markdown",
      "metadata": {
        "id": "LYSl6XPkRPbR"
      },
      "source": [
        "# Tensor Operations"
      ]
    },
    {
      "cell_type": "code",
      "metadata": {
        "id": "yCQF4mt0ROjQ"
      },
      "source": [
        "# We move our tensor to the GPU if available\r\n",
        "if torch.cuda.is_available():\r\n",
        "  tensor = tensor.to('cuda')"
      ],
      "execution_count": 27,
      "outputs": []
    },
    {
      "cell_type": "code",
      "metadata": {
        "colab": {
          "base_uri": "https://localhost:8080/"
        },
        "id": "-XK-1oUARexa",
        "outputId": "1d57c5d4-d11e-4f94-e094-6bf3355905e3"
      },
      "source": [
        "# Standard numpy-like indexing and slicing\r\n",
        "tensor = torch.ones(4, 4)\r\n",
        "tensor[:,1] = 0\r\n",
        "print(tensor)"
      ],
      "execution_count": 28,
      "outputs": [
        {
          "output_type": "stream",
          "text": [
            "tensor([[1., 0., 1., 1.],\n",
            "        [1., 0., 1., 1.],\n",
            "        [1., 0., 1., 1.],\n",
            "        [1., 0., 1., 1.]])\n"
          ],
          "name": "stdout"
        }
      ]
    },
    {
      "cell_type": "code",
      "metadata": {
        "colab": {
          "base_uri": "https://localhost:8080/"
        },
        "id": "7GsgykDERyrB",
        "outputId": "52c03d9a-0818-4e78-b181-36cf40390983"
      },
      "source": [
        "# Joining tensors\r\n",
        "t1 = torch.cat([tensor, tensor, tensor], dim=1)\r\n",
        "print(t1)"
      ],
      "execution_count": 29,
      "outputs": [
        {
          "output_type": "stream",
          "text": [
            "tensor([[1., 0., 1., 1., 1., 0., 1., 1., 1., 0., 1., 1.],\n",
            "        [1., 0., 1., 1., 1., 0., 1., 1., 1., 0., 1., 1.],\n",
            "        [1., 0., 1., 1., 1., 0., 1., 1., 1., 0., 1., 1.],\n",
            "        [1., 0., 1., 1., 1., 0., 1., 1., 1., 0., 1., 1.]])\n"
          ],
          "name": "stdout"
        }
      ]
    },
    {
      "cell_type": "code",
      "metadata": {
        "colab": {
          "base_uri": "https://localhost:8080/"
        },
        "id": "XlhBD_MPR2YB",
        "outputId": "08cbb495-0c6a-4896-f663-e697b39f78a2"
      },
      "source": [
        "# Multiplying tensors\r\n",
        "\r\n",
        "# This computes the element-wise product\r\n",
        "print(f\"tensor.mul(tensor) \\n {tensor.mul(tensor)} \\n\")\r\n",
        "# Alternative syntax:\r\n",
        "print(f\"tensor * tensor \\n {tensor * tensor} \\n\")\r\n",
        "\r\n",
        "# This computes the matrix multiplication between two tensors\r\n",
        "print(f\"tensor.matmul(tensor.T) \\n {tensor.matmul(tensor.T)} \\n\")\r\n",
        "# Alternative syntax:\r\n",
        "print(f\"tensor @ tensor.T \\n {tensor @ tensor.T}\")"
      ],
      "execution_count": 30,
      "outputs": [
        {
          "output_type": "stream",
          "text": [
            "tensor.mul(tensor) \n",
            " tensor([[1., 0., 1., 1.],\n",
            "        [1., 0., 1., 1.],\n",
            "        [1., 0., 1., 1.],\n",
            "        [1., 0., 1., 1.]]) \n",
            "\n",
            "tensor * tensor \n",
            " tensor([[1., 0., 1., 1.],\n",
            "        [1., 0., 1., 1.],\n",
            "        [1., 0., 1., 1.],\n",
            "        [1., 0., 1., 1.]]) \n",
            "\n",
            "tensor.matmul(tensor.T) \n",
            " tensor([[3., 3., 3., 3.],\n",
            "        [3., 3., 3., 3.],\n",
            "        [3., 3., 3., 3.],\n",
            "        [3., 3., 3., 3.]]) \n",
            "\n",
            "tensor @ tensor.T \n",
            " tensor([[3., 3., 3., 3.],\n",
            "        [3., 3., 3., 3.],\n",
            "        [3., 3., 3., 3.],\n",
            "        [3., 3., 3., 3.]])\n"
          ],
          "name": "stdout"
        }
      ]
    },
    {
      "cell_type": "code",
      "metadata": {
        "colab": {
          "base_uri": "https://localhost:8080/"
        },
        "id": "-3WxgCCLSTey",
        "outputId": "e25689b6-5ab7-4dc5-c0f5-ed7c5ace0bc4"
      },
      "source": [
        "# In-place operations\r\n",
        "print(tensor, \"\\n\")\r\n",
        "tensor.add_(5)\r\n",
        "print(tensor)"
      ],
      "execution_count": 31,
      "outputs": [
        {
          "output_type": "stream",
          "text": [
            "tensor([[1., 0., 1., 1.],\n",
            "        [1., 0., 1., 1.],\n",
            "        [1., 0., 1., 1.],\n",
            "        [1., 0., 1., 1.]]) \n",
            "\n",
            "tensor([[6., 5., 6., 6.],\n",
            "        [6., 5., 6., 6.],\n",
            "        [6., 5., 6., 6.],\n",
            "        [6., 5., 6., 6.]])\n"
          ],
          "name": "stdout"
        }
      ]
    },
    {
      "cell_type": "markdown",
      "metadata": {
        "id": "jNecSp3LSYNj"
      },
      "source": [
        "# Bridge with NumPy"
      ]
    },
    {
      "cell_type": "code",
      "metadata": {
        "colab": {
          "base_uri": "https://localhost:8080/"
        },
        "id": "rItFqJDBSZs0",
        "outputId": "17ab9b0e-0f34-4846-f8d6-cb42ef79cd8c"
      },
      "source": [
        "# Tensor to NumPy array\r\n",
        "t = torch.ones(5)\r\n",
        "print(f\"t: {t}\")\r\n",
        "n = t.numpy()\r\n",
        "print(f\"n: {n}\")\r\n",
        "\r\n",
        "# A change in the tensor reflects in the NumPy array\r\n",
        "t.add_(1)\r\n",
        "print(f\"t: {t}\")\r\n",
        "print(f\"n: {n}\")"
      ],
      "execution_count": 32,
      "outputs": [
        {
          "output_type": "stream",
          "text": [
            "t: tensor([1., 1., 1., 1., 1.])\n",
            "n: [1. 1. 1. 1. 1.]\n",
            "t: tensor([2., 2., 2., 2., 2.])\n",
            "n: [2. 2. 2. 2. 2.]\n"
          ],
          "name": "stdout"
        }
      ]
    },
    {
      "cell_type": "code",
      "metadata": {
        "colab": {
          "base_uri": "https://localhost:8080/"
        },
        "id": "Yzi4fPAPSm90",
        "outputId": "0d522e13-7f63-4924-b924-820e89426159"
      },
      "source": [
        "# NumPy array to Tensor\r\n",
        "n = np.ones(5)\r\n",
        "t = torch.from_numpy(n)\r\n",
        "\r\n",
        "# Changes in the NumPy array reflects in the tensor\r\n",
        "np.add(n, 1, out=n)\r\n",
        "print(f\"t: {t}\")\r\n",
        "print(f\"n: {n}\")"
      ],
      "execution_count": 33,
      "outputs": [
        {
          "output_type": "stream",
          "text": [
            "t: tensor([2., 2., 2., 2., 2.], dtype=torch.float64)\n",
            "n: [2. 2. 2. 2. 2.]\n"
          ],
          "name": "stdout"
        }
      ]
    }
  ]
}